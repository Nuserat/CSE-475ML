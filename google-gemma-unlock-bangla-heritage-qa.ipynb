{
 "cells": [
  {
   "cell_type": "markdown",
   "id": "a68f59d3",
   "metadata": {
    "papermill": {
     "duration": 0.007085,
     "end_time": "2024-11-07T19:03:17.067435",
     "exception": false,
     "start_time": "2024-11-07T19:03:17.060350",
     "status": "completed"
    },
    "tags": []
   },
   "source": [
    "Google - Unlock Global Comm with Gemma\n",
    "\n",
    "Upadted on: 08/11/2024\n",
    "\n",
    "Author: Mohammad Rifat Ahmmad Rashid"
   ]
  },
  {
   "cell_type": "markdown",
   "id": "6cdf2118",
   "metadata": {
    "papermill": {
     "duration": 0.00609,
     "end_time": "2024-11-07T19:03:17.080003",
     "exception": false,
     "start_time": "2024-11-07T19:03:17.073913",
     "status": "completed"
    },
    "tags": []
   },
   "source": [
    "# Fine-tuning Gemma 2 for Bangla Language tasks\n",
    "\n",
    "\n",
    "Bangla is a widely spoken language in Bangladesh and parts of India. Approximately 230 million people speak Bangla as their first language. In this notebook, we fine-tune Gemma 2 for conversational Bangla to provide a resource for cancer patients seeking consultations in Bangla about their health-related queries\n",
    "\n",
    "This is a notebook for \"Google- Unlock Glbal Communication with Gemma\" Competition :\n",
    "``https://www.kaggle.com/competitions/gemma-language-tuning``"
   ]
  },
  {
   "cell_type": "markdown",
   "id": "0e1a5635",
   "metadata": {
    "papermill": {
     "duration": 0.006065,
     "end_time": "2024-11-07T19:03:17.092377",
     "exception": false,
     "start_time": "2024-11-07T19:03:17.086312",
     "status": "completed"
    },
    "tags": []
   },
   "source": [
    "# Introduction\n",
    "This notebook is focused on fine-tuning the Gemma 2 model for handling conversational tasks in Bangla, a language predominantly spoken in Bangladesh and parts of India. The notebook is specifically designed to assist patients in getting their queries about cancer addressed in Bangla.\n",
    "\n",
    "The initial cells introduce the competition on Kaggle where Gemma 2 is used for language tuning. The notebook provides resources for setting up the Gemma 2 model and references to other tutorials and datasets, such as the Bangla-Instruct dataset from Hugging Face. Additionally, users are advised to use a GPU (specifically, the P100 model) to manage the model's VRAM requirements during fine-tuning.\n",
    "\n",
    "Several cells demonstrate how to fine-tune the model for generating Bangla responses in different scenarios. These include generating responses to patient queries, such as different treatments in Bangla for various cancer inquiries. Sample responses are crafted using pre-defined prompts in Bangla"
   ]
  },
  {
   "cell_type": "markdown",
   "id": "7c05b11f",
   "metadata": {
    "papermill": {
     "duration": 0.006148,
     "end_time": "2024-11-07T19:03:17.105740",
     "exception": false,
     "start_time": "2024-11-07T19:03:17.099592",
     "status": "completed"
    },
    "tags": []
   },
   "source": [
    "# Reference Notebooks\n",
    "1. https://www.kaggle.com/code/bebechien/how-to-finetuning-gemma2-for-spoken-language-tasks\n",
    "2. https://www.kaggle.com/code/mpwolke/bhagavad-gita-gemma2keras\n",
    "3. https://www.kaggle.com/code/crsuthikshnkumar/google-gemma-unlock-hindi-cancer-qa-nb-crsk"
   ]
  },
  {
   "cell_type": "markdown",
   "id": "285fcf1f",
   "metadata": {
    "papermill": {
     "duration": 0.006091,
     "end_time": "2024-11-07T19:03:17.118214",
     "exception": false,
     "start_time": "2024-11-07T19:03:17.112123",
     "status": "completed"
    },
    "tags": []
   },
   "source": [
    "# Google  Gemma Models:\n",
    "\n",
    "1. Google Gemma https://ai.google.dev/gemma\n",
    "\n"
   ]
  },
  {
   "cell_type": "markdown",
   "id": "48a4983a",
   "metadata": {
    "papermill": {
     "duration": 0.006008,
     "end_time": "2024-11-07T19:03:17.130449",
     "exception": false,
     "start_time": "2024-11-07T19:03:17.124441",
     "status": "completed"
    },
    "tags": []
   },
   "source": [
    "# Video Tutorials\n",
    "1. Tune Gemma as a Spoken Language AI Assistant | Build with Google AI https://youtu.be/M4HGJehH4r0?si=5tk9cIdALXQ1xdmU"
   ]
  },
  {
   "cell_type": "markdown",
   "id": "1cf38c96",
   "metadata": {
    "papermill": {
     "duration": 0.005957,
     "end_time": "2024-11-07T19:03:17.142606",
     "exception": false,
     "start_time": "2024-11-07T19:03:17.136649",
     "status": "completed"
    },
    "tags": []
   },
   "source": [
    "# DataSets\n",
    "Main focus of the dataset is for visual question answering (VQA) task, likely focusing on cultural or historical sites in bangladesh, given the content of the questions and answers"
   ]
  },
  {
   "cell_type": "markdown",
   "id": "4975fbe6",
   "metadata": {
    "papermill": {
     "duration": 0.006131,
     "end_time": "2024-11-07T19:03:17.154873",
     "exception": false,
     "start_time": "2024-11-07T19:03:17.148742",
     "status": "completed"
    },
    "tags": []
   },
   "source": [
    "## Using accelerators\n",
    "\n",
    "Please use **GPU P100** due to VRAM requirement."
   ]
  },
  {
   "cell_type": "markdown",
   "id": "44df1fe3",
   "metadata": {
    "papermill": {
     "duration": 0.006421,
     "end_time": "2024-11-07T19:03:17.167459",
     "exception": false,
     "start_time": "2024-11-07T19:03:17.161038",
     "status": "completed"
    },
    "tags": []
   },
   "source": [
    "## Details of this notebook\n",
    "\n",
    "### Gemma setup\n",
    "\n",
    "setup instructions at [Gemma setup](https://ai.google.dev/gemma/docs/setup). \n",
    "\n",
    "Gemma models are hosted by Kaggle. To use Gemma,  access on Kaggle is required:\n",
    "\n",
    "- Sign in or register at [kaggle.com](https://www.kaggle.com)\n",
    "- Open the [Gemma 2 model card](https://www.kaggle.com/models/google/gemma-2) and select _\"Request Access\"_\n",
    "- Complete the consent form and accept the terms and conditions"
   ]
  },
  {
   "cell_type": "markdown",
   "id": "36d63684",
   "metadata": {
    "papermill": {
     "duration": 0.006017,
     "end_time": "2024-11-07T19:03:17.180066",
     "exception": false,
     "start_time": "2024-11-07T19:03:17.174049",
     "status": "completed"
    },
    "tags": []
   },
   "source": [
    "## Install dependencies\n",
    "\n",
    "Install Keras and KerasNLP."
   ]
  },
  {
   "cell_type": "code",
   "execution_count": 1,
   "id": "42c36dc9",
   "metadata": {
    "execution": {
     "iopub.execute_input": "2024-11-07T19:03:17.194813Z",
     "iopub.status.busy": "2024-11-07T19:03:17.194408Z",
     "iopub.status.idle": "2024-11-07T19:03:58.750356Z",
     "shell.execute_reply": "2024-11-07T19:03:58.749507Z"
    },
    "papermill": {
     "duration": 41.566446,
     "end_time": "2024-11-07T19:03:58.752681",
     "exception": false,
     "start_time": "2024-11-07T19:03:17.186235",
     "status": "completed"
    },
    "tags": []
   },
   "outputs": [],
   "source": [
    "# Install Keras 3 last. See https://keras.io/getting_started/ for more details.\n",
    "!pip install -q -U keras-nlp datasets\n",
    "!pip install -q -U keras\n",
    "\n",
    "\n",
    "import os\n",
    "\n",
    "# Set the backbend before importing Keras\n",
    "os.environ[\"KERAS_BACKEND\"] = \"jax\"\n",
    "# Avoid memory fragmentation on JAX backend.\n",
    "os.environ[\"XLA_PYTHON_CLIENT_MEM_FRACTION\"] = \"1.00\"\n",
    "\n",
    "import keras_nlp\n",
    "import keras\n",
    "\n",
    "# Run at half precision.\n",
    "#keras.config.set_floatx(\"bfloat16\")\n",
    "\n",
    "# Training Configurations\n",
    "token_limit = 256\n",
    "num_data_limit = 100\n",
    "lora_name = \"cakeboss\"\n",
    "lora_rank = 4\n",
    "lr_value = 1e-4\n",
    "train_epoch = 20\n",
    "model_id = \"gemma2_instruct_2b_en\""
   ]
  },
  {
   "cell_type": "markdown",
   "id": "d64ad6a7",
   "metadata": {
    "papermill": {
     "duration": 0.006008,
     "end_time": "2024-11-07T19:03:58.765355",
     "exception": false,
     "start_time": "2024-11-07T19:03:58.759347",
     "status": "completed"
    },
    "tags": []
   },
   "source": [
    "## Load Model"
   ]
  },
  {
   "cell_type": "code",
   "execution_count": 2,
   "id": "bed2f869",
   "metadata": {
    "execution": {
     "iopub.execute_input": "2024-11-07T19:03:58.779316Z",
     "iopub.status.busy": "2024-11-07T19:03:58.778761Z",
     "iopub.status.idle": "2024-11-07T19:05:03.535104Z",
     "shell.execute_reply": "2024-11-07T19:05:03.533839Z"
    },
    "papermill": {
     "duration": 64.765879,
     "end_time": "2024-11-07T19:05:03.537403",
     "exception": false,
     "start_time": "2024-11-07T19:03:58.771524",
     "status": "completed"
    },
    "tags": []
   },
   "outputs": [
    {
     "name": "stderr",
     "output_type": "stream",
     "text": [
      "normalizer.cc(51) LOG(INFO) precompiled_charsmap is empty. use identity normalization.\n"
     ]
    },
    {
     "data": {
      "text/html": [
       "<pre style=\"white-space:pre;overflow-x:auto;line-height:normal;font-family:Menlo,'DejaVu Sans Mono',consolas,'Courier New',monospace\"><span style=\"font-weight: bold\">Preprocessor: \"gemma_causal_lm_preprocessor\"</span>\n",
       "</pre>\n"
      ],
      "text/plain": [
       "\u001b[1mPreprocessor: \"gemma_causal_lm_preprocessor\"\u001b[0m\n"
      ]
     },
     "metadata": {},
     "output_type": "display_data"
    },
    {
     "data": {
      "text/html": [
       "<pre style=\"white-space:pre;overflow-x:auto;line-height:normal;font-family:Menlo,'DejaVu Sans Mono',consolas,'Courier New',monospace\">┏━━━━━━━━━━━━━━━━━━━━━━━━━━━━━━━━━━━━━━━━━━━━━━━━━━━━━━━━━━━━━━━┳━━━━━━━━━━━━━━━━━━━━━━━━━━━━━━━━━━━━━━━━━━┓\n",
       "┃<span style=\"font-weight: bold\"> Layer (type)                                                  </span>┃<span style=\"font-weight: bold\">                                   Config </span>┃\n",
       "┡━━━━━━━━━━━━━━━━━━━━━━━━━━━━━━━━━━━━━━━━━━━━━━━━━━━━━━━━━━━━━━━╇━━━━━━━━━━━━━━━━━━━━━━━━━━━━━━━━━━━━━━━━━━┩\n",
       "│ gemma_tokenizer (<span style=\"color: #0087ff; text-decoration-color: #0087ff\">GemmaTokenizer</span>)                              │                      Vocab size: <span style=\"color: #00af00; text-decoration-color: #00af00\">256,000</span> │\n",
       "└───────────────────────────────────────────────────────────────┴──────────────────────────────────────────┘\n",
       "</pre>\n"
      ],
      "text/plain": [
       "┏━━━━━━━━━━━━━━━━━━━━━━━━━━━━━━━━━━━━━━━━━━━━━━━━━━━━━━━━━━━━━━━┳━━━━━━━━━━━━━━━━━━━━━━━━━━━━━━━━━━━━━━━━━━┓\n",
       "┃\u001b[1m \u001b[0m\u001b[1mLayer (type)                                                 \u001b[0m\u001b[1m \u001b[0m┃\u001b[1m \u001b[0m\u001b[1m                                  Config\u001b[0m\u001b[1m \u001b[0m┃\n",
       "┡━━━━━━━━━━━━━━━━━━━━━━━━━━━━━━━━━━━━━━━━━━━━━━━━━━━━━━━━━━━━━━━╇━━━━━━━━━━━━━━━━━━━━━━━━━━━━━━━━━━━━━━━━━━┩\n",
       "│ gemma_tokenizer (\u001b[38;5;33mGemmaTokenizer\u001b[0m)                              │                      Vocab size: \u001b[38;5;34m256,000\u001b[0m │\n",
       "└───────────────────────────────────────────────────────────────┴──────────────────────────────────────────┘\n"
      ]
     },
     "metadata": {},
     "output_type": "display_data"
    },
    {
     "data": {
      "text/html": [
       "<pre style=\"white-space:pre;overflow-x:auto;line-height:normal;font-family:Menlo,'DejaVu Sans Mono',consolas,'Courier New',monospace\"><span style=\"font-weight: bold\">Model: \"gemma_causal_lm\"</span>\n",
       "</pre>\n"
      ],
      "text/plain": [
       "\u001b[1mModel: \"gemma_causal_lm\"\u001b[0m\n"
      ]
     },
     "metadata": {},
     "output_type": "display_data"
    },
    {
     "data": {
      "text/html": [
       "<pre style=\"white-space:pre;overflow-x:auto;line-height:normal;font-family:Menlo,'DejaVu Sans Mono',consolas,'Courier New',monospace\">┏━━━━━━━━━━━━━━━━━━━━━━━━━━━━━━━┳━━━━━━━━━━━━━━━━━━━━━━━━━━━┳━━━━━━━━━━━━━━━━━┳━━━━━━━━━━━━━━━━━━━━━━━━━━━━┓\n",
       "┃<span style=\"font-weight: bold\"> Layer (type)                  </span>┃<span style=\"font-weight: bold\"> Output Shape              </span>┃<span style=\"font-weight: bold\">         Param # </span>┃<span style=\"font-weight: bold\"> Connected to               </span>┃\n",
       "┡━━━━━━━━━━━━━━━━━━━━━━━━━━━━━━━╇━━━━━━━━━━━━━━━━━━━━━━━━━━━╇━━━━━━━━━━━━━━━━━╇━━━━━━━━━━━━━━━━━━━━━━━━━━━━┩\n",
       "│ padding_mask (<span style=\"color: #0087ff; text-decoration-color: #0087ff\">InputLayer</span>)     │ (<span style=\"color: #00d7ff; text-decoration-color: #00d7ff\">None</span>, <span style=\"color: #00d7ff; text-decoration-color: #00d7ff\">None</span>)              │               <span style=\"color: #00af00; text-decoration-color: #00af00\">0</span> │ -                          │\n",
       "├───────────────────────────────┼───────────────────────────┼─────────────────┼────────────────────────────┤\n",
       "│ token_ids (<span style=\"color: #0087ff; text-decoration-color: #0087ff\">InputLayer</span>)        │ (<span style=\"color: #00d7ff; text-decoration-color: #00d7ff\">None</span>, <span style=\"color: #00d7ff; text-decoration-color: #00d7ff\">None</span>)              │               <span style=\"color: #00af00; text-decoration-color: #00af00\">0</span> │ -                          │\n",
       "├───────────────────────────────┼───────────────────────────┼─────────────────┼────────────────────────────┤\n",
       "│ gemma_backbone                │ (<span style=\"color: #00d7ff; text-decoration-color: #00d7ff\">None</span>, <span style=\"color: #00d7ff; text-decoration-color: #00d7ff\">None</span>, <span style=\"color: #00af00; text-decoration-color: #00af00\">2304</span>)        │   <span style=\"color: #00af00; text-decoration-color: #00af00\">2,614,341,888</span> │ padding_mask[<span style=\"color: #00af00; text-decoration-color: #00af00\">0</span>][<span style=\"color: #00af00; text-decoration-color: #00af00\">0</span>],        │\n",
       "│ (<span style=\"color: #0087ff; text-decoration-color: #0087ff\">GemmaBackbone</span>)               │                           │                 │ token_ids[<span style=\"color: #00af00; text-decoration-color: #00af00\">0</span>][<span style=\"color: #00af00; text-decoration-color: #00af00\">0</span>]            │\n",
       "├───────────────────────────────┼───────────────────────────┼─────────────────┼────────────────────────────┤\n",
       "│ token_embedding               │ (<span style=\"color: #00d7ff; text-decoration-color: #00d7ff\">None</span>, <span style=\"color: #00d7ff; text-decoration-color: #00d7ff\">None</span>, <span style=\"color: #00af00; text-decoration-color: #00af00\">256000</span>)      │     <span style=\"color: #00af00; text-decoration-color: #00af00\">589,824,000</span> │ gemma_backbone[<span style=\"color: #00af00; text-decoration-color: #00af00\">0</span>][<span style=\"color: #00af00; text-decoration-color: #00af00\">0</span>]       │\n",
       "│ (<span style=\"color: #0087ff; text-decoration-color: #0087ff\">ReversibleEmbedding</span>)         │                           │                 │                            │\n",
       "└───────────────────────────────┴───────────────────────────┴─────────────────┴────────────────────────────┘\n",
       "</pre>\n"
      ],
      "text/plain": [
       "┏━━━━━━━━━━━━━━━━━━━━━━━━━━━━━━━┳━━━━━━━━━━━━━━━━━━━━━━━━━━━┳━━━━━━━━━━━━━━━━━┳━━━━━━━━━━━━━━━━━━━━━━━━━━━━┓\n",
       "┃\u001b[1m \u001b[0m\u001b[1mLayer (type)                 \u001b[0m\u001b[1m \u001b[0m┃\u001b[1m \u001b[0m\u001b[1mOutput Shape             \u001b[0m\u001b[1m \u001b[0m┃\u001b[1m \u001b[0m\u001b[1m        Param #\u001b[0m\u001b[1m \u001b[0m┃\u001b[1m \u001b[0m\u001b[1mConnected to              \u001b[0m\u001b[1m \u001b[0m┃\n",
       "┡━━━━━━━━━━━━━━━━━━━━━━━━━━━━━━━╇━━━━━━━━━━━━━━━━━━━━━━━━━━━╇━━━━━━━━━━━━━━━━━╇━━━━━━━━━━━━━━━━━━━━━━━━━━━━┩\n",
       "│ padding_mask (\u001b[38;5;33mInputLayer\u001b[0m)     │ (\u001b[38;5;45mNone\u001b[0m, \u001b[38;5;45mNone\u001b[0m)              │               \u001b[38;5;34m0\u001b[0m │ -                          │\n",
       "├───────────────────────────────┼───────────────────────────┼─────────────────┼────────────────────────────┤\n",
       "│ token_ids (\u001b[38;5;33mInputLayer\u001b[0m)        │ (\u001b[38;5;45mNone\u001b[0m, \u001b[38;5;45mNone\u001b[0m)              │               \u001b[38;5;34m0\u001b[0m │ -                          │\n",
       "├───────────────────────────────┼───────────────────────────┼─────────────────┼────────────────────────────┤\n",
       "│ gemma_backbone                │ (\u001b[38;5;45mNone\u001b[0m, \u001b[38;5;45mNone\u001b[0m, \u001b[38;5;34m2304\u001b[0m)        │   \u001b[38;5;34m2,614,341,888\u001b[0m │ padding_mask[\u001b[38;5;34m0\u001b[0m][\u001b[38;5;34m0\u001b[0m],        │\n",
       "│ (\u001b[38;5;33mGemmaBackbone\u001b[0m)               │                           │                 │ token_ids[\u001b[38;5;34m0\u001b[0m][\u001b[38;5;34m0\u001b[0m]            │\n",
       "├───────────────────────────────┼───────────────────────────┼─────────────────┼────────────────────────────┤\n",
       "│ token_embedding               │ (\u001b[38;5;45mNone\u001b[0m, \u001b[38;5;45mNone\u001b[0m, \u001b[38;5;34m256000\u001b[0m)      │     \u001b[38;5;34m589,824,000\u001b[0m │ gemma_backbone[\u001b[38;5;34m0\u001b[0m][\u001b[38;5;34m0\u001b[0m]       │\n",
       "│ (\u001b[38;5;33mReversibleEmbedding\u001b[0m)         │                           │                 │                            │\n",
       "└───────────────────────────────┴───────────────────────────┴─────────────────┴────────────────────────────┘\n"
      ]
     },
     "metadata": {},
     "output_type": "display_data"
    },
    {
     "data": {
      "text/html": [
       "<pre style=\"white-space:pre;overflow-x:auto;line-height:normal;font-family:Menlo,'DejaVu Sans Mono',consolas,'Courier New',monospace\"><span style=\"font-weight: bold\"> Total params: </span><span style=\"color: #00af00; text-decoration-color: #00af00\">2,614,341,888</span> (9.74 GB)\n",
       "</pre>\n"
      ],
      "text/plain": [
       "\u001b[1m Total params: \u001b[0m\u001b[38;5;34m2,614,341,888\u001b[0m (9.74 GB)\n"
      ]
     },
     "metadata": {},
     "output_type": "display_data"
    },
    {
     "data": {
      "text/html": [
       "<pre style=\"white-space:pre;overflow-x:auto;line-height:normal;font-family:Menlo,'DejaVu Sans Mono',consolas,'Courier New',monospace\"><span style=\"font-weight: bold\"> Trainable params: </span><span style=\"color: #00af00; text-decoration-color: #00af00\">2,614,341,888</span> (9.74 GB)\n",
       "</pre>\n"
      ],
      "text/plain": [
       "\u001b[1m Trainable params: \u001b[0m\u001b[38;5;34m2,614,341,888\u001b[0m (9.74 GB)\n"
      ]
     },
     "metadata": {},
     "output_type": "display_data"
    },
    {
     "data": {
      "text/html": [
       "<pre style=\"white-space:pre;overflow-x:auto;line-height:normal;font-family:Menlo,'DejaVu Sans Mono',consolas,'Courier New',monospace\"><span style=\"font-weight: bold\"> Non-trainable params: </span><span style=\"color: #00af00; text-decoration-color: #00af00\">0</span> (0.00 B)\n",
       "</pre>\n"
      ],
      "text/plain": [
       "\u001b[1m Non-trainable params: \u001b[0m\u001b[38;5;34m0\u001b[0m (0.00 B)\n"
      ]
     },
     "metadata": {},
     "output_type": "display_data"
    },
    {
     "name": "stdout",
     "output_type": "stream",
     "text": [
      "\n",
      "Gemma output:\n",
      "<start_of_turn>user\n",
      "Do you know bangla language?<end_of_turn>\n",
      "<start_of_turn>model\n",
      "As an AI, I don't \"know\" languages in the way a human does. I can't speak or understand Bengali in the same way you do. \n",
      "\n",
      "However, I have been trained on a massive dataset of text and code, which includes a significant amount of Bengali content. This means I can:\n",
      "\n",
      "* **Translate** Bengali to other languages and vice versa.\n",
      "* **Generate** text in Bengali, like writing simple sentences or stories.\n",
      "* **Identify** Bengali text and understand its meaning.\n",
      "* **Answer** questions about Bengali grammar and vocabulary.\n",
      "\n",
      "So, while I don't \"know\" Bengali in the human sense, I can still be helpful with tasks related to the language. \n",
      "\n",
      "How can I help you with Bengali today? 😊 \n",
      "<end_of_turn>\n",
      "TOTAL TIME ELAPSED: 19.80s\n",
      "\n",
      "Gemma output:\n",
      "<start_of_turn>user\n",
      "আপনি কি বাংলা জানেন?<end_of_turn>\n",
      "<start_of_turn>model\n",
      "আমি বাংলা ভাষা জানি।  আমি এখনও শিক্ষা করছি, কিন্তু আমি বেশিরভাগ সময় বাংলাতে কথা বলতে পারি। \n",
      "\n",
      "আপনি কি কিছু বাংলাতে বলতে চান? \n",
      "<end_of_turn>\n",
      "TOTAL TIME ELAPSED: 2.49s\n"
     ]
    }
   ],
   "source": [
    "import keras\n",
    "import keras_nlp\n",
    "\n",
    "import time\n",
    "\n",
    "gemma_lm = keras_nlp.models.GemmaCausalLM.from_preset(model_id)\n",
    "gemma_lm.summary()\n",
    "\n",
    "tick_start = 0\n",
    "\n",
    "def tick():\n",
    "    global tick_start\n",
    "    tick_start = time.time()\n",
    "\n",
    "def tock():\n",
    "    print(f\"TOTAL TIME ELAPSED: {time.time() - tick_start:.2f}s\")\n",
    "\n",
    "def text_gen(prompt):\n",
    "    tick()\n",
    "    input = f\"<start_of_turn>user\\n{prompt}<end_of_turn>\\n<start_of_turn>model\\n\"\n",
    "    output = gemma_lm.generate(input, max_length=token_limit)\n",
    "    print(\"\\nGemma output:\")\n",
    "    print(output)\n",
    "    tock()\n",
    "\n",
    "# inference before fine-tuning\n",
    "text_gen(\"Do you know bangla language?\")\n",
    "text_gen(\"আপনি কি বাংলা জানেন?\")"
   ]
  },
  {
   "cell_type": "code",
   "execution_count": 3,
   "id": "c6bac1c3",
   "metadata": {
    "execution": {
     "iopub.execute_input": "2024-11-07T19:05:03.555242Z",
     "iopub.status.busy": "2024-11-07T19:05:03.554902Z",
     "iopub.status.idle": "2024-11-07T19:05:04.192052Z",
     "shell.execute_reply": "2024-11-07T19:05:04.190849Z"
    },
    "papermill": {
     "duration": 0.648455,
     "end_time": "2024-11-07T19:05:04.194107",
     "exception": false,
     "start_time": "2024-11-07T19:05:03.545652",
     "status": "completed"
    },
    "tags": []
   },
   "outputs": [
    {
     "data": {
      "text/html": [
       "<div>\n",
       "<style scoped>\n",
       "    .dataframe tbody tr th:only-of-type {\n",
       "        vertical-align: middle;\n",
       "    }\n",
       "\n",
       "    .dataframe tbody tr th {\n",
       "        vertical-align: top;\n",
       "    }\n",
       "\n",
       "    .dataframe thead th {\n",
       "        text-align: right;\n",
       "    }\n",
       "</style>\n",
       "<table border=\"1\" class=\"dataframe\">\n",
       "  <thead>\n",
       "    <tr style=\"text-align: right;\">\n",
       "      <th></th>\n",
       "      <th>Questions</th>\n",
       "      <th>Answers</th>\n",
       "      <th>Translated Questions</th>\n",
       "      <th>Translated Answers</th>\n",
       "      <th>Title(region name)</th>\n",
       "    </tr>\n",
       "  </thead>\n",
       "  <tbody>\n",
       "    <tr>\n",
       "      <th>0</th>\n",
       "      <td>এই ছবিটি কিসের?</td>\n",
       "      <td>এই ছবিটি হলো পুঠিয়া রাজবাড়ী বা পাঁচআনি জমিদ...</td>\n",
       "      <td>What is this picture of?</td>\n",
       "      <td>This picture is of the Puthia Rajbari or Panch...</td>\n",
       "      <td>পুঠিয়া রাজবাড়ী, নাটোর, রাজশাহী।</td>\n",
       "    </tr>\n",
       "    <tr>\n",
       "      <th>1</th>\n",
       "      <td>এটি কোন দিক রাজবাড়ীর?</td>\n",
       "      <td>এটি রাজবাড়ীর সম্মুখভাগ</td>\n",
       "      <td>Which direction of the palace is this?</td>\n",
       "      <td>This is the front section of the palace.</td>\n",
       "      <td>পুঠিয়া রাজবাড়ী, নাটোর, রাজশাহী।</td>\n",
       "    </tr>\n",
       "    <tr>\n",
       "      <th>2</th>\n",
       "      <td>পুঠিয়া রাজবাড়ী কয় তলা বিশিষ্ট?</td>\n",
       "      <td>পুঠিয়া রাজবাড়ী দ্বিতল বিশিষ্ট এবং  ইন্দো ইউর...</td>\n",
       "      <td>How many stories does the Puthia Rajbari have?</td>\n",
       "      <td>Puthia Rajbari is a two-storied structure, bui...</td>\n",
       "      <td>পুঠিয়া রাজবাড়ী, নাটোর, রাজশাহী।</td>\n",
       "    </tr>\n",
       "    <tr>\n",
       "      <th>3</th>\n",
       "      <td>রাজবাড়ীর নির্মাণশৈলী কেমন?</td>\n",
       "      <td>ভবনের সম্মুখ ভাগের স্তম্ভ, অলংকরন, কাঠের কাজ, ...</td>\n",
       "      <td>What is the architectural style of the palace?</td>\n",
       "      <td>The columns, decorations, woodwork, and the fl...</td>\n",
       "      <td>পুঠিয়া রাজবাড়ী, নাটোর, রাজশাহী।</td>\n",
       "    </tr>\n",
       "    <tr>\n",
       "      <th>4</th>\n",
       "      <td>রাজবাড়ীর সম্মুখভাগ কিসের তৈরি?</td>\n",
       "      <td>ভবনের সম্মুখ ভাগের স্তম্ভ, অলংকরন, কাঠের কাজ, ...</td>\n",
       "      <td>What is the front of the palace made of?</td>\n",
       "      <td>The columns, decorations, woodwork, and the fl...</td>\n",
       "      <td>পুঠিয়া রাজবাড়ী, নাটোর, রাজশাহী।</td>\n",
       "    </tr>\n",
       "  </tbody>\n",
       "</table>\n",
       "</div>"
      ],
      "text/plain": [
       "                           Questions  \\\n",
       "0                    এই ছবিটি কিসের?   \n",
       "1             এটি কোন দিক রাজবাড়ীর?   \n",
       "2  পুঠিয়া রাজবাড়ী কয় তলা বিশিষ্ট?   \n",
       "3        রাজবাড়ীর নির্মাণশৈলী কেমন?   \n",
       "4    রাজবাড়ীর সম্মুখভাগ কিসের তৈরি?   \n",
       "\n",
       "                                             Answers  \\\n",
       "0   এই ছবিটি হলো পুঠিয়া রাজবাড়ী বা পাঁচআনি জমিদ...   \n",
       "1                            এটি রাজবাড়ীর সম্মুখভাগ   \n",
       "2  পুঠিয়া রাজবাড়ী দ্বিতল বিশিষ্ট এবং  ইন্দো ইউর...   \n",
       "3  ভবনের সম্মুখ ভাগের স্তম্ভ, অলংকরন, কাঠের কাজ, ...   \n",
       "4  ভবনের সম্মুখ ভাগের স্তম্ভ, অলংকরন, কাঠের কাজ, ...   \n",
       "\n",
       "                             Translated Questions  \\\n",
       "0                        What is this picture of?   \n",
       "1          Which direction of the palace is this?   \n",
       "2  How many stories does the Puthia Rajbari have?   \n",
       "3  What is the architectural style of the palace?   \n",
       "4        What is the front of the palace made of?   \n",
       "\n",
       "                                  Translated Answers  \\\n",
       "0  This picture is of the Puthia Rajbari or Panch...   \n",
       "1           This is the front section of the palace.   \n",
       "2  Puthia Rajbari is a two-storied structure, bui...   \n",
       "3  The columns, decorations, woodwork, and the fl...   \n",
       "4  The columns, decorations, woodwork, and the fl...   \n",
       "\n",
       "                  Title(region name)  \n",
       "0  পুঠিয়া রাজবাড়ী, নাটোর, রাজশাহী।  \n",
       "1  পুঠিয়া রাজবাড়ী, নাটোর, রাজশাহী।  \n",
       "2  পুঠিয়া রাজবাড়ী, নাটোর, রাজশাহী।  \n",
       "3  পুঠিয়া রাজবাড়ী, নাটোর, রাজশাহী।  \n",
       "4  পুঠিয়া রাজবাড়ী, নাটোর, রাজশাহী।  "
      ]
     },
     "execution_count": 3,
     "metadata": {},
     "output_type": "execute_result"
    }
   ],
   "source": [
    "import pandas as pd\n",
    "df = pd.read_excel(\"/kaggle/input/vqa-excel/VQADataset.xlsx\")\n",
    "df.head()"
   ]
  },
  {
   "cell_type": "markdown",
   "id": "488d8bed",
   "metadata": {
    "papermill": {
     "duration": 0.008115,
     "end_time": "2024-11-07T19:05:04.210587",
     "exception": false,
     "start_time": "2024-11-07T19:05:04.202472",
     "status": "completed"
    },
    "tags": []
   },
   "source": [
    "## Load Dataset\n",
    "Kannada dataset is created and uploaded"
   ]
  },
  {
   "cell_type": "code",
   "execution_count": 4,
   "id": "507bc009",
   "metadata": {
    "execution": {
     "iopub.execute_input": "2024-11-07T19:05:04.228467Z",
     "iopub.status.busy": "2024-11-07T19:05:04.227921Z",
     "iopub.status.idle": "2024-11-07T19:05:08.225096Z",
     "shell.execute_reply": "2024-11-07T19:05:08.224159Z"
    },
    "papermill": {
     "duration": 4.008861,
     "end_time": "2024-11-07T19:05:08.227525",
     "exception": false,
     "start_time": "2024-11-07T19:05:04.218664",
     "status": "completed"
    },
    "tags": []
   },
   "outputs": [
    {
     "name": "stdout",
     "output_type": "stream",
     "text": [
      "Dataset({\n",
      "    features: ['Questions', 'Answers', 'Translated Questions', 'Translated Answers', 'Title(region name)'],\n",
      "    num_rows: 1646\n",
      "})\n",
      "100\n",
      "<start_of_turn>user\n",
      " উত্তর তৈরি করুন:\n",
      "\"এই ছবিটি কিসের?\"<end_of_turn>\n",
      "<start_of_turn>model\n",
      " এই ছবিটি হলো পুঠিয়া রাজবাড়ী বা পাঁচআনি জমিদারবাড়ী হচ্ছে মহারানী হেমন্তকুমারী দেবীর বাসভবন। বাংলার প্রত্নতাত্ত্বিক ঐতিহ্যের মধ্যে রাজশাহীর পুঠিয়া রাজবাড়ী অন্যতম।[১] ১৮৯৫ সালে মহারানী হেমন্তকুমারী দেবী আকর্ষনীয় ইন্দো ইউরোপীয় স্থাপত্যরীতিতে আয়তাকার দ্বিতল বর্তমান রাজবাড়ীটি নির্মাণ করেন।<end_of_turn >\n",
      "<start_of_turn>user\n",
      " উত্তর তৈরি করুন:\n",
      "\"এটি কোন দিক রাজবাড়ীর?\"<end_of_turn>\n",
      "<start_of_turn>model\n",
      "এটি রাজবাড়ীর সম্মুখভাগ<end_of_turn >\n",
      "<start_of_turn>user\n",
      " উত্তর তৈরি করুন:\n",
      "\"পুঠিয়া রাজবাড়ী কয় তলা বিশিষ্ট?\"<end_of_turn>\n",
      "<start_of_turn>model\n",
      "পুঠিয়া রাজবাড়ী দ্বিতল বিশিষ্ট এবং  ইন্দো ইউরোপীয় স্থাপত্যরীতিতে ১৮৯৫ সালে মহারানী হেমন্তকুমারী দেবী তার শাশুড়ি মহারানী শরৎ সুন্দরী দেবীর সম্মানে নির্মাণ করান।<end_of_turn >\n"
     ]
    }
   ],
   "source": [
    "import keras\n",
    "import keras_nlp\n",
    "import datasets\n",
    "\n",
    "tokenizer = keras_nlp.models.GemmaTokenizer.from_preset(model_id)\n",
    "\n",
    "from datasets import Dataset\n",
    "ds = Dataset.from_pandas(df)\n",
    "\n",
    "print(ds)\n",
    "\n",
    "data = ds.with_format(\"np\", columns=[\"Questions\", \"Answers\"], output_all_columns=False)\n",
    "train = []\n",
    "\n",
    "for x in data:\n",
    "  #item = f\"<start_of_turn>user\\n다음에 대한 이메일 답장을 작성해줘.\\n\\\"{x['input']}\\\"<end_of_turn>\\n<start_of_turn>model\\n{x['output']}<end_of_turn>\"\n",
    "    item = f\"<start_of_turn>user\\n উত্তর তৈরি করুন:\\n\\\"{x['Questions']}\\\"<end_of_turn>\\n<start_of_turn>model\\n{x['Answers']}<end_of_turn >\"\n",
    "\n",
    "    length = len(tokenizer(item))\n",
    "  # skip data if the token length is longer than our limit\n",
    "    if length < token_limit:\n",
    "        train.append(item)\n",
    "        if(len(train)>=num_data_limit):\n",
    "            break\n",
    "\n",
    "print(len(train))\n",
    "print(train[0])\n",
    "print(train[1])\n",
    "print(train[2])"
   ]
  },
  {
   "cell_type": "markdown",
   "id": "26916651",
   "metadata": {
    "papermill": {
     "duration": 0.008142,
     "end_time": "2024-11-07T19:05:08.244078",
     "exception": false,
     "start_time": "2024-11-07T19:05:08.235936",
     "status": "completed"
    },
    "tags": []
   },
   "source": [
    "## LoRA Fine-tuning"
   ]
  },
  {
   "cell_type": "code",
   "execution_count": 5,
   "id": "5b8f22d8",
   "metadata": {
    "execution": {
     "iopub.execute_input": "2024-11-07T19:05:08.261837Z",
     "iopub.status.busy": "2024-11-07T19:05:08.261268Z",
     "iopub.status.idle": "2024-11-07T19:05:08.653478Z",
     "shell.execute_reply": "2024-11-07T19:05:08.652429Z"
    },
    "papermill": {
     "duration": 0.403823,
     "end_time": "2024-11-07T19:05:08.656018",
     "exception": false,
     "start_time": "2024-11-07T19:05:08.252195",
     "status": "completed"
    },
    "tags": []
   },
   "outputs": [
    {
     "data": {
      "text/html": [
       "<pre style=\"white-space:pre;overflow-x:auto;line-height:normal;font-family:Menlo,'DejaVu Sans Mono',consolas,'Courier New',monospace\"><span style=\"font-weight: bold\">Preprocessor: \"gemma_causal_lm_preprocessor\"</span>\n",
       "</pre>\n"
      ],
      "text/plain": [
       "\u001b[1mPreprocessor: \"gemma_causal_lm_preprocessor\"\u001b[0m\n"
      ]
     },
     "metadata": {},
     "output_type": "display_data"
    },
    {
     "data": {
      "text/html": [
       "<pre style=\"white-space:pre;overflow-x:auto;line-height:normal;font-family:Menlo,'DejaVu Sans Mono',consolas,'Courier New',monospace\">┏━━━━━━━━━━━━━━━━━━━━━━━━━━━━━━━━━━━━━━━━━━━━━━━━━━━━━━━━━━━━━━━┳━━━━━━━━━━━━━━━━━━━━━━━━━━━━━━━━━━━━━━━━━━┓\n",
       "┃<span style=\"font-weight: bold\"> Layer (type)                                                  </span>┃<span style=\"font-weight: bold\">                                   Config </span>┃\n",
       "┡━━━━━━━━━━━━━━━━━━━━━━━━━━━━━━━━━━━━━━━━━━━━━━━━━━━━━━━━━━━━━━━╇━━━━━━━━━━━━━━━━━━━━━━━━━━━━━━━━━━━━━━━━━━┩\n",
       "│ gemma_tokenizer (<span style=\"color: #0087ff; text-decoration-color: #0087ff\">GemmaTokenizer</span>)                              │                      Vocab size: <span style=\"color: #00af00; text-decoration-color: #00af00\">256,000</span> │\n",
       "└───────────────────────────────────────────────────────────────┴──────────────────────────────────────────┘\n",
       "</pre>\n"
      ],
      "text/plain": [
       "┏━━━━━━━━━━━━━━━━━━━━━━━━━━━━━━━━━━━━━━━━━━━━━━━━━━━━━━━━━━━━━━━┳━━━━━━━━━━━━━━━━━━━━━━━━━━━━━━━━━━━━━━━━━━┓\n",
       "┃\u001b[1m \u001b[0m\u001b[1mLayer (type)                                                 \u001b[0m\u001b[1m \u001b[0m┃\u001b[1m \u001b[0m\u001b[1m                                  Config\u001b[0m\u001b[1m \u001b[0m┃\n",
       "┡━━━━━━━━━━━━━━━━━━━━━━━━━━━━━━━━━━━━━━━━━━━━━━━━━━━━━━━━━━━━━━━╇━━━━━━━━━━━━━━━━━━━━━━━━━━━━━━━━━━━━━━━━━━┩\n",
       "│ gemma_tokenizer (\u001b[38;5;33mGemmaTokenizer\u001b[0m)                              │                      Vocab size: \u001b[38;5;34m256,000\u001b[0m │\n",
       "└───────────────────────────────────────────────────────────────┴──────────────────────────────────────────┘\n"
      ]
     },
     "metadata": {},
     "output_type": "display_data"
    },
    {
     "data": {
      "text/html": [
       "<pre style=\"white-space:pre;overflow-x:auto;line-height:normal;font-family:Menlo,'DejaVu Sans Mono',consolas,'Courier New',monospace\"><span style=\"font-weight: bold\">Model: \"gemma_causal_lm\"</span>\n",
       "</pre>\n"
      ],
      "text/plain": [
       "\u001b[1mModel: \"gemma_causal_lm\"\u001b[0m\n"
      ]
     },
     "metadata": {},
     "output_type": "display_data"
    },
    {
     "data": {
      "text/html": [
       "<pre style=\"white-space:pre;overflow-x:auto;line-height:normal;font-family:Menlo,'DejaVu Sans Mono',consolas,'Courier New',monospace\">┏━━━━━━━━━━━━━━━━━━━━━━━━━━━━━━━┳━━━━━━━━━━━━━━━━━━━━━━━━━━━┳━━━━━━━━━━━━━━━━━┳━━━━━━━━━━━━━━━━━━━━━━━━━━━━┓\n",
       "┃<span style=\"font-weight: bold\"> Layer (type)                  </span>┃<span style=\"font-weight: bold\"> Output Shape              </span>┃<span style=\"font-weight: bold\">         Param # </span>┃<span style=\"font-weight: bold\"> Connected to               </span>┃\n",
       "┡━━━━━━━━━━━━━━━━━━━━━━━━━━━━━━━╇━━━━━━━━━━━━━━━━━━━━━━━━━━━╇━━━━━━━━━━━━━━━━━╇━━━━━━━━━━━━━━━━━━━━━━━━━━━━┩\n",
       "│ padding_mask (<span style=\"color: #0087ff; text-decoration-color: #0087ff\">InputLayer</span>)     │ (<span style=\"color: #00d7ff; text-decoration-color: #00d7ff\">None</span>, <span style=\"color: #00d7ff; text-decoration-color: #00d7ff\">None</span>)              │               <span style=\"color: #00af00; text-decoration-color: #00af00\">0</span> │ -                          │\n",
       "├───────────────────────────────┼───────────────────────────┼─────────────────┼────────────────────────────┤\n",
       "│ token_ids (<span style=\"color: #0087ff; text-decoration-color: #0087ff\">InputLayer</span>)        │ (<span style=\"color: #00d7ff; text-decoration-color: #00d7ff\">None</span>, <span style=\"color: #00d7ff; text-decoration-color: #00d7ff\">None</span>)              │               <span style=\"color: #00af00; text-decoration-color: #00af00\">0</span> │ -                          │\n",
       "├───────────────────────────────┼───────────────────────────┼─────────────────┼────────────────────────────┤\n",
       "│ gemma_backbone                │ (<span style=\"color: #00d7ff; text-decoration-color: #00d7ff\">None</span>, <span style=\"color: #00d7ff; text-decoration-color: #00d7ff\">None</span>, <span style=\"color: #00af00; text-decoration-color: #00af00\">2304</span>)        │   <span style=\"color: #00af00; text-decoration-color: #00af00\">2,617,270,528</span> │ padding_mask[<span style=\"color: #00af00; text-decoration-color: #00af00\">0</span>][<span style=\"color: #00af00; text-decoration-color: #00af00\">0</span>],        │\n",
       "│ (<span style=\"color: #0087ff; text-decoration-color: #0087ff\">GemmaBackbone</span>)               │                           │                 │ token_ids[<span style=\"color: #00af00; text-decoration-color: #00af00\">0</span>][<span style=\"color: #00af00; text-decoration-color: #00af00\">0</span>]            │\n",
       "├───────────────────────────────┼───────────────────────────┼─────────────────┼────────────────────────────┤\n",
       "│ token_embedding               │ (<span style=\"color: #00d7ff; text-decoration-color: #00d7ff\">None</span>, <span style=\"color: #00d7ff; text-decoration-color: #00d7ff\">None</span>, <span style=\"color: #00af00; text-decoration-color: #00af00\">256000</span>)      │     <span style=\"color: #00af00; text-decoration-color: #00af00\">589,824,000</span> │ gemma_backbone[<span style=\"color: #00af00; text-decoration-color: #00af00\">0</span>][<span style=\"color: #00af00; text-decoration-color: #00af00\">0</span>]       │\n",
       "│ (<span style=\"color: #0087ff; text-decoration-color: #0087ff\">ReversibleEmbedding</span>)         │                           │                 │                            │\n",
       "└───────────────────────────────┴───────────────────────────┴─────────────────┴────────────────────────────┘\n",
       "</pre>\n"
      ],
      "text/plain": [
       "┏━━━━━━━━━━━━━━━━━━━━━━━━━━━━━━━┳━━━━━━━━━━━━━━━━━━━━━━━━━━━┳━━━━━━━━━━━━━━━━━┳━━━━━━━━━━━━━━━━━━━━━━━━━━━━┓\n",
       "┃\u001b[1m \u001b[0m\u001b[1mLayer (type)                 \u001b[0m\u001b[1m \u001b[0m┃\u001b[1m \u001b[0m\u001b[1mOutput Shape             \u001b[0m\u001b[1m \u001b[0m┃\u001b[1m \u001b[0m\u001b[1m        Param #\u001b[0m\u001b[1m \u001b[0m┃\u001b[1m \u001b[0m\u001b[1mConnected to              \u001b[0m\u001b[1m \u001b[0m┃\n",
       "┡━━━━━━━━━━━━━━━━━━━━━━━━━━━━━━━╇━━━━━━━━━━━━━━━━━━━━━━━━━━━╇━━━━━━━━━━━━━━━━━╇━━━━━━━━━━━━━━━━━━━━━━━━━━━━┩\n",
       "│ padding_mask (\u001b[38;5;33mInputLayer\u001b[0m)     │ (\u001b[38;5;45mNone\u001b[0m, \u001b[38;5;45mNone\u001b[0m)              │               \u001b[38;5;34m0\u001b[0m │ -                          │\n",
       "├───────────────────────────────┼───────────────────────────┼─────────────────┼────────────────────────────┤\n",
       "│ token_ids (\u001b[38;5;33mInputLayer\u001b[0m)        │ (\u001b[38;5;45mNone\u001b[0m, \u001b[38;5;45mNone\u001b[0m)              │               \u001b[38;5;34m0\u001b[0m │ -                          │\n",
       "├───────────────────────────────┼───────────────────────────┼─────────────────┼────────────────────────────┤\n",
       "│ gemma_backbone                │ (\u001b[38;5;45mNone\u001b[0m, \u001b[38;5;45mNone\u001b[0m, \u001b[38;5;34m2304\u001b[0m)        │   \u001b[38;5;34m2,617,270,528\u001b[0m │ padding_mask[\u001b[38;5;34m0\u001b[0m][\u001b[38;5;34m0\u001b[0m],        │\n",
       "│ (\u001b[38;5;33mGemmaBackbone\u001b[0m)               │                           │                 │ token_ids[\u001b[38;5;34m0\u001b[0m][\u001b[38;5;34m0\u001b[0m]            │\n",
       "├───────────────────────────────┼───────────────────────────┼─────────────────┼────────────────────────────┤\n",
       "│ token_embedding               │ (\u001b[38;5;45mNone\u001b[0m, \u001b[38;5;45mNone\u001b[0m, \u001b[38;5;34m256000\u001b[0m)      │     \u001b[38;5;34m589,824,000\u001b[0m │ gemma_backbone[\u001b[38;5;34m0\u001b[0m][\u001b[38;5;34m0\u001b[0m]       │\n",
       "│ (\u001b[38;5;33mReversibleEmbedding\u001b[0m)         │                           │                 │                            │\n",
       "└───────────────────────────────┴───────────────────────────┴─────────────────┴────────────────────────────┘\n"
      ]
     },
     "metadata": {},
     "output_type": "display_data"
    },
    {
     "data": {
      "text/html": [
       "<pre style=\"white-space:pre;overflow-x:auto;line-height:normal;font-family:Menlo,'DejaVu Sans Mono',consolas,'Courier New',monospace\"><span style=\"font-weight: bold\"> Total params: </span><span style=\"color: #00af00; text-decoration-color: #00af00\">2,617,270,528</span> (9.75 GB)\n",
       "</pre>\n"
      ],
      "text/plain": [
       "\u001b[1m Total params: \u001b[0m\u001b[38;5;34m2,617,270,528\u001b[0m (9.75 GB)\n"
      ]
     },
     "metadata": {},
     "output_type": "display_data"
    },
    {
     "data": {
      "text/html": [
       "<pre style=\"white-space:pre;overflow-x:auto;line-height:normal;font-family:Menlo,'DejaVu Sans Mono',consolas,'Courier New',monospace\"><span style=\"font-weight: bold\"> Trainable params: </span><span style=\"color: #00af00; text-decoration-color: #00af00\">2,928,640</span> (11.17 MB)\n",
       "</pre>\n"
      ],
      "text/plain": [
       "\u001b[1m Trainable params: \u001b[0m\u001b[38;5;34m2,928,640\u001b[0m (11.17 MB)\n"
      ]
     },
     "metadata": {},
     "output_type": "display_data"
    },
    {
     "data": {
      "text/html": [
       "<pre style=\"white-space:pre;overflow-x:auto;line-height:normal;font-family:Menlo,'DejaVu Sans Mono',consolas,'Courier New',monospace\"><span style=\"font-weight: bold\"> Non-trainable params: </span><span style=\"color: #00af00; text-decoration-color: #00af00\">2,614,341,888</span> (9.74 GB)\n",
       "</pre>\n"
      ],
      "text/plain": [
       "\u001b[1m Non-trainable params: \u001b[0m\u001b[38;5;34m2,614,341,888\u001b[0m (9.74 GB)\n"
      ]
     },
     "metadata": {},
     "output_type": "display_data"
    }
   ],
   "source": [
    "# Enable LoRA for the model and set the LoRA rank to 4.\n",
    "gemma_lm.backbone.enable_lora(rank=lora_rank)\n",
    "gemma_lm.summary()\n",
    "\n",
    "# Limit the input sequence length (to control memory usage).\n",
    "gemma_lm.preprocessor.sequence_length = token_limit\n",
    "# Use AdamW (a common optimizer for transformer models).\n",
    "optimizer = keras.optimizers.AdamW(\n",
    "    learning_rate=lr_value,\n",
    "    weight_decay=0.01,\n",
    ")\n",
    "# Exclude layernorm and bias terms from decay.\n",
    "optimizer.exclude_from_weight_decay(var_names=[\"bias\", \"scale\"])\n",
    "\n",
    "gemma_lm.compile(\n",
    "    loss=keras.losses.SparseCategoricalCrossentropy(from_logits=True),\n",
    "    optimizer=optimizer,\n",
    "    weighted_metrics=[keras.metrics.SparseCategoricalAccuracy()],\n",
    ")"
   ]
  },
  {
   "cell_type": "markdown",
   "id": "b32219d8",
   "metadata": {
    "papermill": {
     "duration": 0.00944,
     "end_time": "2024-11-07T19:05:08.675431",
     "exception": false,
     "start_time": "2024-11-07T19:05:08.665991",
     "status": "completed"
    },
    "tags": []
   },
   "source": [
    "## Save LoRA for each epoch"
   ]
  },
  {
   "cell_type": "code",
   "execution_count": 6,
   "id": "71610bea",
   "metadata": {
    "execution": {
     "iopub.execute_input": "2024-11-07T19:05:08.696284Z",
     "iopub.status.busy": "2024-11-07T19:05:08.695922Z",
     "iopub.status.idle": "2024-11-07T19:21:03.279584Z",
     "shell.execute_reply": "2024-11-07T19:21:03.278587Z"
    },
    "papermill": {
     "duration": 954.596737,
     "end_time": "2024-11-07T19:21:03.281550",
     "exception": false,
     "start_time": "2024-11-07T19:05:08.684813",
     "status": "completed"
    },
    "tags": []
   },
   "outputs": [
    {
     "name": "stdout",
     "output_type": "stream",
     "text": [
      "Epoch 1/20\n",
      "\u001b[1m 83/100\u001b[0m \u001b[32m━━━━━━━━━━━━━━━━\u001b[0m\u001b[37m━━━━\u001b[0m \u001b[1m12s\u001b[0m 726ms/step - loss: 1.4211 - sparse_categorical_accuracy: 0.4359\n",
      "Gemma output:\n",
      "<start_of_turn>user\n",
      "এটি কোন দিক রাজবাড়ীর?<end_of_turn>\n",
      "<start_of_turn>model\n",
      "আমি দুঃখিত, আমি কোনও রাজবাড়ীর অবস্থান জানি না। আমি Google দ্বারা তৈরি একটি বৃহৎ ভাষা মডেল। আমি বিভিন্ন বিষয় সম্পর্কে তথ্য প্রদান করতে পারি, কিন্তু আমার কোনও স্থানের অবস্থান জানা নেই। \n",
      "<end_of_turn>\n",
      "TOTAL TIME ELAPSED: 18.51s\n",
      "\u001b[1m100/100\u001b[0m \u001b[32m━━━━━━━━━━━━━━━━━━━━\u001b[0m\u001b[37m\u001b[0m \u001b[1m107s\u001b[0m 790ms/step - loss: 1.3271 - sparse_categorical_accuracy: 0.4553\n",
      "Epoch 2/20\n",
      "\u001b[1m 82/100\u001b[0m \u001b[32m━━━━━━━━━━━━━━━━\u001b[0m\u001b[37m━━━━\u001b[0m \u001b[1m9s\u001b[0m 513ms/step - loss: 0.7205 - sparse_categorical_accuracy: 0.6404\n",
      "Gemma output:\n",
      "<start_of_turn>user\n",
      "এটি কোন দিক রাজবাড়ীর?<end_of_turn>\n",
      "<start_of_turn>model\n",
      "আমি তোমার প্রশ্নের উত্তর দিতে পারছি না। আমি এমন কোন তথ্য তৈরি করতে পারি না যা স্থাপনা বা জায়গার নির্দিষ্ট নাম বা অবস্থানের তথ্য প্রদান করে। <end_of_turn >\n",
      "TOTAL TIME ELAPSED: 3.19s\n",
      "\u001b[1m100/100\u001b[0m \u001b[32m━━━━━━━━━━━━━━━━━━━━\u001b[0m\u001b[37m\u001b[0m \u001b[1m64s\u001b[0m 453ms/step - loss: 0.6849 - sparse_categorical_accuracy: 0.6498\n",
      "Epoch 3/20\n",
      "\u001b[1m 85/100\u001b[0m \u001b[32m━━━━━━━━━━━━━━━━━\u001b[0m\u001b[37m━━━\u001b[0m \u001b[1m7s\u001b[0m 485ms/step - loss: 0.5775 - sparse_categorical_accuracy: 0.6939\n",
      "Gemma output:\n",
      "<start_of_turn>user\n",
      "এটি কোন দিক রাজবাড়ীর?<end_of_turn>\n",
      "<start_of_turn>model\n",
      "আমি তোমার প্রশ্নের উত্তর দিতে পারছি না। আমি এমন কোনও তথ্য তৈরি করতে পারি না যা রাজবাড়ীর দিক নির্ণয় করবে।<end_of_turn >\n",
      "TOTAL TIME ELAPSED: 2.56s\n",
      "\u001b[1m100/100\u001b[0m \u001b[32m━━━━━━━━━━━━━━━━━━━━\u001b[0m\u001b[37m\u001b[0m \u001b[1m45s\u001b[0m 438ms/step - loss: 0.5573 - sparse_categorical_accuracy: 0.6979\n",
      "Epoch 4/20\n",
      "\u001b[1m 85/100\u001b[0m \u001b[32m━━━━━━━━━━━━━━━━━\u001b[0m\u001b[37m━━━\u001b[0m \u001b[1m7s\u001b[0m 485ms/step - loss: 0.5211 - sparse_categorical_accuracy: 0.7149\n",
      "Gemma output:\n",
      "<start_of_turn>user\n",
      "এটি কোন দিক রাজবাড়ীর?<end_of_turn>\n",
      "<start_of_turn>model\n",
      "আমি তোমার প্রশ্নের উত্তর দিতে পারছি না। আমি এটি কোন দিক রাজবাড়ীর বুঝতে পারছি না।<end_of_turn >\n",
      "TOTAL TIME ELAPSED: 2.07s\n",
      "\u001b[1m100/100\u001b[0m \u001b[32m━━━━━━━━━━━━━━━━━━━━\u001b[0m\u001b[37m\u001b[0m \u001b[1m44s\u001b[0m 433ms/step - loss: 0.4972 - sparse_categorical_accuracy: 0.7229\n",
      "Epoch 5/20\n",
      "\u001b[1m 86/100\u001b[0m \u001b[32m━━━━━━━━━━━━━━━━━\u001b[0m\u001b[37m━━━\u001b[0m \u001b[1m6s\u001b[0m 479ms/step - loss: 0.4699 - sparse_categorical_accuracy: 0.7420\n",
      "Gemma output:\n",
      "<start_of_turn>user\n",
      "এটি কোন দিক রাজবাড়ীর?<end_of_turn>\n",
      "<start_of_turn>model\n",
      "এটি রাজবাড়ীর একটি ছবি।<end_of_turn >\n",
      "TOTAL TIME ELAPSED: 0.89s\n",
      "\u001b[1m100/100\u001b[0m \u001b[32m━━━━━━━━━━━━━━━━━━━━\u001b[0m\u001b[37m\u001b[0m \u001b[1m43s\u001b[0m 421ms/step - loss: 0.4516 - sparse_categorical_accuracy: 0.7454\n",
      "Epoch 6/20\n",
      "\u001b[1m 87/100\u001b[0m \u001b[32m━━━━━━━━━━━━━━━━━\u001b[0m\u001b[37m━━━\u001b[0m \u001b[1m6s\u001b[0m 473ms/step - loss: 0.4228 - sparse_categorical_accuracy: 0.7671\n",
      "Gemma output:\n",
      "<start_of_turn>user\n",
      "এটি কোন দিক রাজবাড়ীর?<end_of_turn>\n",
      "<start_of_turn>model\n",
      "এটি রাজবাড়ীর একটি প্রধান ভবনের দরজা।<end_of_turn >\n",
      "TOTAL TIME ELAPSED: 1.20s\n",
      "\u001b[1m100/100\u001b[0m \u001b[32m━━━━━━━━━━━━━━━━━━━━\u001b[0m\u001b[37m\u001b[0m \u001b[1m43s\u001b[0m 424ms/step - loss: 0.4091 - sparse_categorical_accuracy: 0.7705\n",
      "Epoch 7/20\n",
      "\u001b[1m 87/100\u001b[0m \u001b[32m━━━━━━━━━━━━━━━━━\u001b[0m\u001b[37m━━━\u001b[0m \u001b[1m6s\u001b[0m 473ms/step - loss: 0.3726 - sparse_categorical_accuracy: 0.7913\n",
      "Gemma output:\n",
      "<start_of_turn>user\n",
      "এটি কোন দিক রাজবাড়ীর?<end_of_turn>\n",
      "<start_of_turn>model\n",
      "এটি রাজবাড়ীর প্রধান ভবনের দরজার কাছাকাছি।<end_of_turn >\n",
      "TOTAL TIME ELAPSED: 1.43s\n",
      "\u001b[1m100/100\u001b[0m \u001b[32m━━━━━━━━━━━━━━━━━━━━\u001b[0m\u001b[37m\u001b[0m \u001b[1m44s\u001b[0m 427ms/step - loss: 0.3619 - sparse_categorical_accuracy: 0.7953\n",
      "Epoch 8/20\n",
      "\u001b[1m 87/100\u001b[0m \u001b[32m━━━━━━━━━━━━━━━━━\u001b[0m\u001b[37m━━━\u001b[0m \u001b[1m6s\u001b[0m 473ms/step - loss: 0.3254 - sparse_categorical_accuracy: 0.8176\n",
      "Gemma output:\n",
      "<start_of_turn>user\n",
      "এটি কোন দিক রাজবাড়ীর?<end_of_turn>\n",
      "<start_of_turn>model\n",
      "এটি রাজবাড়ীর প্রধান ভবনের দরজা।<end_of_turn >\n",
      "TOTAL TIME ELAPSED: 1.16s\n",
      "\u001b[1m100/100\u001b[0m \u001b[32m━━━━━━━━━━━━━━━━━━━━\u001b[0m\u001b[37m\u001b[0m \u001b[1m43s\u001b[0m 424ms/step - loss: 0.3145 - sparse_categorical_accuracy: 0.8219\n",
      "Epoch 9/20\n",
      "\u001b[1m 87/100\u001b[0m \u001b[32m━━━━━━━━━━━━━━━━━\u001b[0m\u001b[37m━━━\u001b[0m \u001b[1m6s\u001b[0m 473ms/step - loss: 0.2840 - sparse_categorical_accuracy: 0.8453\n",
      "Gemma output:\n",
      "<start_of_turn>user\n",
      "এটি কোন দিক রাজবাড়ীর?<end_of_turn>\n",
      "<start_of_turn>model\n",
      "এটি রাজবাড়ীর প্রধান প্রবেশদ্বার।<end_of_turn >\n",
      "TOTAL TIME ELAPSED: 1.12s\n",
      "\u001b[1m100/100\u001b[0m \u001b[32m━━━━━━━━━━━━━━━━━━━━\u001b[0m\u001b[37m\u001b[0m \u001b[1m43s\u001b[0m 423ms/step - loss: 0.2744 - sparse_categorical_accuracy: 0.8484\n",
      "Epoch 10/20\n",
      "\u001b[1m 87/100\u001b[0m \u001b[32m━━━━━━━━━━━━━━━━━\u001b[0m\u001b[37m━━━\u001b[0m \u001b[1m6s\u001b[0m 473ms/step - loss: 0.2444 - sparse_categorical_accuracy: 0.8687\n",
      "Gemma output:\n",
      "<start_of_turn>user\n",
      "এটি কোন দিক রাজবাড়ীর?<end_of_turn>\n",
      "<start_of_turn>model\n",
      "এটি রাজবাড়ীর প্রধান প্রবেশদ্বার।<end_of_turn >\n",
      "TOTAL TIME ELAPSED: 1.12s\n",
      "\u001b[1m100/100\u001b[0m \u001b[32m━━━━━━━━━━━━━━━━━━━━\u001b[0m\u001b[37m\u001b[0m \u001b[1m43s\u001b[0m 424ms/step - loss: 0.2375 - sparse_categorical_accuracy: 0.8708\n",
      "Epoch 11/20\n",
      "\u001b[1m 87/100\u001b[0m \u001b[32m━━━━━━━━━━━━━━━━━\u001b[0m\u001b[37m━━━\u001b[0m \u001b[1m6s\u001b[0m 473ms/step - loss: 0.2104 - sparse_categorical_accuracy: 0.8909\n",
      "Gemma output:\n",
      "<start_of_turn>user\n",
      "এটি কোন দিক রাজবাড়ীর?<end_of_turn>\n",
      "<start_of_turn>model\n",
      "এটি রাজবাড়ীর সম্মুখভাগের।<end_of_turn >\n",
      "TOTAL TIME ELAPSED: 1.05s\n",
      "\u001b[1m100/100\u001b[0m \u001b[32m━━━━━━━━━━━━━━━━━━━━\u001b[0m\u001b[37m\u001b[0m \u001b[1m43s\u001b[0m 423ms/step - loss: 0.2034 - sparse_categorical_accuracy: 0.8926\n",
      "Epoch 12/20\n",
      "\u001b[1m 87/100\u001b[0m \u001b[32m━━━━━━━━━━━━━━━━━\u001b[0m\u001b[37m━━━\u001b[0m \u001b[1m6s\u001b[0m 473ms/step - loss: 0.1794 - sparse_categorical_accuracy: 0.9142\n",
      "Gemma output:\n",
      "<start_of_turn>user\n",
      "এটি কোন দিক রাজবাড়ীর?<end_of_turn>\n",
      "<start_of_turn>model\n",
      "এটি দরজার কাছাকাছি অবস্থিত একটি ঝরনার ছবি।<end_of_turn >\n",
      "TOTAL TIME ELAPSED: 1.50s\n",
      "\u001b[1m100/100\u001b[0m \u001b[32m━━━━━━━━━━━━━━━━━━━━\u001b[0m\u001b[37m\u001b[0m \u001b[1m44s\u001b[0m 427ms/step - loss: 0.1748 - sparse_categorical_accuracy: 0.9147\n",
      "Epoch 13/20\n",
      "\u001b[1m 86/100\u001b[0m \u001b[32m━━━━━━━━━━━━━━━━━\u001b[0m\u001b[37m━━━\u001b[0m \u001b[1m6s\u001b[0m 479ms/step - loss: 0.1566 - sparse_categorical_accuracy: 0.9255\n",
      "Gemma output:\n",
      "<start_of_turn>user\n",
      "এটি কোন দিক রাজবাড়ীর?<end_of_turn>\n",
      "<start_of_turn>model\n",
      "এটি রাজবাড়ীর সম্মুখভাগ।<end_of_turn >\n",
      "TOTAL TIME ELAPSED: 1.01s\n",
      "\u001b[1m100/100\u001b[0m \u001b[32m━━━━━━━━━━━━━━━━━━━━\u001b[0m\u001b[37m\u001b[0m \u001b[1m43s\u001b[0m 422ms/step - loss: 0.1535 - sparse_categorical_accuracy: 0.9259\n",
      "Epoch 14/20\n",
      "\u001b[1m 85/100\u001b[0m \u001b[32m━━━━━━━━━━━━━━━━━\u001b[0m\u001b[37m━━━\u001b[0m \u001b[1m7s\u001b[0m 485ms/step - loss: 0.1329 - sparse_categorical_accuracy: 0.9416\n",
      "Gemma output:\n",
      "<start_of_turn>user\n",
      "এটি কোন দিক রাজবাড়ীর?<end_of_turn>\n",
      "<start_of_turn>model\n",
      "এটি রাজবাড়ীরönster ।<end_of_turn >\n",
      "TOTAL TIME ELAPSED: 0.82s\n",
      "\u001b[1m100/100\u001b[0m \u001b[32m━━━━━━━━━━━━━━━━━━━━\u001b[0m\u001b[37m\u001b[0m \u001b[1m43s\u001b[0m 420ms/step - loss: 0.1307 - sparse_categorical_accuracy: 0.9418\n",
      "Epoch 15/20\n",
      "\u001b[1m 87/100\u001b[0m \u001b[32m━━━━━━━━━━━━━━━━━\u001b[0m\u001b[37m━━━\u001b[0m \u001b[1m6s\u001b[0m 473ms/step - loss: 0.1147 - sparse_categorical_accuracy: 0.9543\n",
      "Gemma output:\n",
      "<start_of_turn>user\n",
      "এটি কোন দিক রাজবাড়ীর?<end_of_turn>\n",
      "<start_of_turn>model\n",
      "এটি রাজবাড়ীর সম্মুখভাগ।<end_of_turn >\n",
      "TOTAL TIME ELAPSED: 1.01s\n",
      "\u001b[1m100/100\u001b[0m \u001b[32m━━━━━━━━━━━━━━━━━━━━\u001b[0m\u001b[37m\u001b[0m \u001b[1m43s\u001b[0m 422ms/step - loss: 0.1132 - sparse_categorical_accuracy: 0.9541\n",
      "Epoch 16/20\n",
      "\u001b[1m 91/100\u001b[0m \u001b[32m━━━━━━━━━━━━━━━━━━\u001b[0m\u001b[37m━━\u001b[0m \u001b[1m4s\u001b[0m 452ms/step - loss: 0.0990 - sparse_categorical_accuracy: 0.9615\n",
      "Gemma output:\n",
      "<start_of_turn>user\n",
      "এটি কোন দিক রাজবাড়ীর?<end_of_turn>\n",
      "<start_of_turn>model\n",
      "এটি রাজবাড়ীর সম্মুখভাগ।<end_of_turn >\n",
      "TOTAL TIME ELAPSED: 1.01s\n",
      "\u001b[1m100/100\u001b[0m \u001b[32m━━━━━━━━━━━━━━━━━━━━\u001b[0m\u001b[37m\u001b[0m \u001b[1m43s\u001b[0m 422ms/step - loss: 0.0984 - sparse_categorical_accuracy: 0.9614\n",
      "Epoch 17/20\n",
      "\u001b[1m 87/100\u001b[0m \u001b[32m━━━━━━━━━━━━━━━━━\u001b[0m\u001b[37m━━━\u001b[0m \u001b[1m6s\u001b[0m 473ms/step - loss: 0.0901 - sparse_categorical_accuracy: 0.9652\n",
      "Gemma output:\n",
      "<start_of_turn>user\n",
      "এটি কোন দিক রাজবাড়ীর?<end_of_turn>\n",
      "<start_of_turn>model\n",
      "এটি রাজবাড়ীর সম্মুখভাগের কক্ষের ছবি ।<end_of_turn >\n",
      "TOTAL TIME ELAPSED: 1.24s\n",
      "\u001b[1m100/100\u001b[0m \u001b[32m━━━━━━━━━━━━━━━━━━━━\u001b[0m\u001b[37m\u001b[0m \u001b[1m43s\u001b[0m 425ms/step - loss: 0.0892 - sparse_categorical_accuracy: 0.9647\n",
      "Epoch 18/20\n",
      "\u001b[1m 84/100\u001b[0m \u001b[32m━━━━━━━━━━━━━━━━\u001b[0m\u001b[37m━━━━\u001b[0m \u001b[1m7s\u001b[0m 490ms/step - loss: 0.0820 - sparse_categorical_accuracy: 0.9675\n",
      "Gemma output:\n",
      "<start_of_turn>user\n",
      "এটি কোন দিক রাজবাড়ীর?<end_of_turn>\n",
      "<start_of_turn>model\n",
      "এটি রাজবাড়ীর সম্মুখভাগ।<end_of_turn >\n",
      "TOTAL TIME ELAPSED: 1.01s\n",
      "\u001b[1m100/100\u001b[0m \u001b[32m━━━━━━━━━━━━━━━━━━━━\u001b[0m\u001b[37m\u001b[0m \u001b[1m43s\u001b[0m 422ms/step - loss: 0.0813 - sparse_categorical_accuracy: 0.9670\n",
      "Epoch 19/20\n",
      "\u001b[1m 84/100\u001b[0m \u001b[32m━━━━━━━━━━━━━━━━\u001b[0m\u001b[37m━━━━\u001b[0m \u001b[1m7s\u001b[0m 490ms/step - loss: 0.0759 - sparse_categorical_accuracy: 0.9681 \n",
      "Gemma output:\n",
      "<start_of_turn>user\n",
      "এটি কোন দিক রাজবাড়ীর?<end_of_turn>\n",
      "<start_of_turn>model\n",
      "এটি রাজবাড়ীর সম্মুখভাগ।<end_of_turn >\n",
      "TOTAL TIME ELAPSED: 1.01s\n",
      "\u001b[1m100/100\u001b[0m \u001b[32m━━━━━━━━━━━━━━━━━━━━\u001b[0m\u001b[37m\u001b[0m \u001b[1m43s\u001b[0m 422ms/step - loss: 0.0753 - sparse_categorical_accuracy: 0.9678\n",
      "Epoch 20/20\n",
      "\u001b[1m 87/100\u001b[0m \u001b[32m━━━━━━━━━━━━━━━━━\u001b[0m\u001b[37m━━━\u001b[0m \u001b[1m6s\u001b[0m 473ms/step - loss: 0.0720 - sparse_categorical_accuracy: 0.9681\n",
      "Gemma output:\n",
      "<start_of_turn>user\n",
      "এটি কোন দিক রাজবাড়ীর?<end_of_turn>\n",
      "<start_of_turn>model\n",
      "এটি রাজবাড়ীর সম্মুখভাগ।<end_of_turn >\n",
      "TOTAL TIME ELAPSED: 1.01s\n",
      "\u001b[1m100/100\u001b[0m \u001b[32m━━━━━━━━━━━━━━━━━━━━\u001b[0m\u001b[37m\u001b[0m \u001b[1m43s\u001b[0m 422ms/step - loss: 0.0716 - sparse_categorical_accuracy: 0.9680\n"
     ]
    },
    {
     "data": {
      "image/png": "[encoded data removed]",
      "text/plain": [
       "<Figure size 640x480 with 1 Axes>"
      ]
     },
     "metadata": {},
     "output_type": "display_data"
    }
   ],
   "source": [
    "class CustomCallback(keras.callbacks.Callback):\n",
    "    def on_epoch_end(self, epoch, logs=None):\n",
    "        model_name = f\"/kaggle/working/{lora_name}_{lora_rank}_epoch{epoch+1}.lora.h5\"\n",
    "        gemma_lm.backbone.save_lora_weights(model_name)\n",
    "\n",
    "        # Evaluate\n",
    "        text_gen(\"এটি কোন দিক রাজবাড়ীর?\")\n",
    "\n",
    "history = gemma_lm.fit(train, epochs=train_epoch, batch_size=1, callbacks=[CustomCallback()])\n",
    "\n",
    "import matplotlib.pyplot as plt\n",
    "plt.plot(history.history['loss'])\n",
    "plt.show()\n"
   ]
  },
  {
   "cell_type": "markdown",
   "id": "d5463fd0",
   "metadata": {
    "papermill": {
     "duration": 0.142237,
     "end_time": "2024-11-07T19:21:03.568487",
     "exception": false,
     "start_time": "2024-11-07T19:21:03.426250",
     "status": "completed"
    },
    "tags": []
   },
   "source": [
    "## Load LoRA\n",
    "\n",
    "Use the code below if you shared LoRA weights. It's much more lightweight than the model files themselves - for instance, a LoRA rank 4 weights file for a 10gb model might only be on the order of a few megabytes, easily shared over email."
   ]
  },
  {
   "cell_type": "code",
   "execution_count": 7,
   "id": "be007413",
   "metadata": {
    "execution": {
     "iopub.execute_input": "2024-11-07T19:21:03.860730Z",
     "iopub.status.busy": "2024-11-07T19:21:03.860329Z",
     "iopub.status.idle": "2024-11-07T19:21:03.867081Z",
     "shell.execute_reply": "2024-11-07T19:21:03.866259Z"
    },
    "papermill": {
     "duration": 0.158312,
     "end_time": "2024-11-07T19:21:03.869030",
     "exception": false,
     "start_time": "2024-11-07T19:21:03.710718",
     "status": "completed"
    },
    "tags": []
   },
   "outputs": [
    {
     "data": {
      "text/plain": [
       "'\\nimport os\\nimport keras\\nimport keras_nlp\\n\\ngemma_lm = keras_nlp.models.GemmaCausalLM.from_preset(\"gemma2_instruct_2b_en\")\\n# Use the same LoRA rank that you trained\\ngemma_lm.backbone.enable_lora(rank=4)\\n\\n# Load pre-trained LoRA weights\\ngemma_lm.backbone.load_lora_weights(f\"/kaggle/working/cakeboss_4_epoch17.lora.h5\")\\n'"
      ]
     },
     "execution_count": 7,
     "metadata": {},
     "output_type": "execute_result"
    }
   ],
   "source": [
    "# Example Code for Load LoRA\n",
    "'''\n",
    "import os\n",
    "import keras\n",
    "import keras_nlp\n",
    "\n",
    "gemma_lm = keras_nlp.models.GemmaCausalLM.from_preset(\"gemma2_instruct_2b_en\")\n",
    "# Use the same LoRA rank that you trained\n",
    "gemma_lm.backbone.enable_lora(rank=4)\n",
    "\n",
    "# Load pre-trained LoRA weights\n",
    "gemma_lm.backbone.load_lora_weights(f\"/kaggle/working/cakeboss_4_epoch17.lora.h5\")\n",
    "'''"
   ]
  },
  {
   "cell_type": "markdown",
   "id": "69d293df",
   "metadata": {
    "papermill": {
     "duration": 0.141114,
     "end_time": "2024-11-07T19:21:04.151154",
     "exception": false,
     "start_time": "2024-11-07T19:21:04.010040",
     "status": "completed"
    },
    "tags": []
   },
   "source": [
    "## Try a different sampler\n",
    "\n",
    "The top-K algorithm randomly picks the next token from the tokens of top K probability."
   ]
  },
  {
   "cell_type": "code",
   "execution_count": 8,
   "id": "272868ca",
   "metadata": {
    "execution": {
     "iopub.execute_input": "2024-11-07T19:21:04.440064Z",
     "iopub.status.busy": "2024-11-07T19:21:04.439642Z",
     "iopub.status.idle": "2024-11-07T19:21:25.239498Z",
     "shell.execute_reply": "2024-11-07T19:21:25.238482Z"
    },
    "papermill": {
     "duration": 20.948708,
     "end_time": "2024-11-07T19:21:25.241723",
     "exception": false,
     "start_time": "2024-11-07T19:21:04.293015",
     "status": "completed"
    },
    "tags": []
   },
   "outputs": [
    {
     "name": "stdout",
     "output_type": "stream",
     "text": [
      "\n",
      "Gemma output:\n",
      "<start_of_turn>user\n",
      "আমাকে ঢাকার একটি অবস্থান দেখান<end_of_turn>\n",
      "<start_of_turn>model\n",
      "דינהর কান্তনগরের কামারুদী মন্দিরে পাহাড়ের পাশে অবস্থিত এই জমিদার বাড়ি ঢাকার একটি প্রাচীন প্রধানমনিরওয়ার স্থাপত্যকাহিত্যমূলক বোর্ডিং।<end_of_turn >\n",
      "TOTAL TIME ELAPSED: 18.90s\n",
      "\n",
      "Gemma output:\n",
      "<start_of_turn>user\n",
      "পুঠিয়া রাজবাড়ী কয় তলা বিশিষ্ট?<end_of_turn>\n",
      "<start_of_turn>model\n",
      "পুঠিয়া রাজবাড়ী তলা বিশিষ্ট ৬টি।<end_of_turn >\n",
      "TOTAL TIME ELAPSED: 1.28s\n"
     ]
    }
   ],
   "source": [
    "gemma_lm.compile(sampler=\"top_k\")\n",
    "\n",
    "text_gen(\"আমাকে ঢাকার একটি অবস্থান দেখান\" )\n",
    "text_gen(\"পুঠিয়া রাজবাড়ী কয় তলা বিশিষ্ট?\" )"
   ]
  },
  {
   "cell_type": "markdown",
   "id": "7a4ac832",
   "metadata": {
    "papermill": {
     "duration": 0.145781,
     "end_time": "2024-11-07T19:21:25.533243",
     "exception": false,
     "start_time": "2024-11-07T19:21:25.387462",
     "status": "completed"
    },
    "tags": []
   },
   "source": [
    "# Future work\n",
    "To improve the notebook and enhance its performance, usability, and effectiveness for fine-tuning Gemma 2 for Hindi language tasks, consider the following steps:\n",
    "\n",
    "1. Data Preprocessing and Augmentation\n",
    "\n",
    "2. Model Optimization\n",
    "\n",
    "3. Hyperparameter Tuning\n",
    "\n",
    "4. Language-Specific Enhancements\n",
    "\n",
    "5. Error Handling and Robustness\n",
    "\n",
    "6. Performance Evaluation\n",
    "\n",
    "7. Documentation and Code Clarity\n",
    "\n",
    "8. Integration with Business Applications\n"
   ]
  },
  {
   "cell_type": "markdown",
   "id": "7aeb0723",
   "metadata": {
    "papermill": {
     "duration": 0.14333,
     "end_time": "2024-11-07T19:21:25.819975",
     "exception": false,
     "start_time": "2024-11-07T19:21:25.676645",
     "status": "completed"
    },
    "tags": []
   },
   "source": [
    "# Conclusion\n",
    "In conclusion, Gemma 2 can serve the medical community in correctly analysing and replying to queries on topics such as Cancer in native languages such as Hindi. Many of the patients can get clarifications with accurate answers from the fine tuned Gemma. Thus Gemma can play a vital role in providing  knowledgeble responses to millions of Hindi speakers without overwhelming the Medical facilities. "
   ]
  },
  {
   "cell_type": "markdown",
   "id": "55358ea2",
   "metadata": {
    "papermill": {
     "duration": 0.142526,
     "end_time": "2024-11-07T19:21:26.105143",
     "exception": false,
     "start_time": "2024-11-07T19:21:25.962617",
     "status": "completed"
    },
    "tags": []
   },
   "source": [
    "# Additional References\n",
    "**Data Preprocessing and Augmentation**: Goldberg, Y. (2017). Neural Network Methods for Natural Language Processing. Morgan & Claypool Publishers.\n",
    "Sarkar, D. (2019). Text Analytics with Python: A Practical Guide to Optimizing Natural Language Processing Models. Apress.\n",
    "\n",
    "**Model Optimization**: Goodfellow, I., Bengio, Y., & Courville, A. (2016). Deep Learning. MIT Press.\n",
    "Vaswani, A., et al. (2017). Attention Is All You Need. arXiv preprint arXiv:1706.03762.\n",
    "\n",
    "**Hyperparameter Tuning**: Smith, L. N. (2018). A disciplined approach to neural network hyper-parameters: Part 1--learning rate, batch size, momentum, and weight decay. arXiv preprint arXiv:1803.09820.\n",
    "\n",
    "**Language-Specific Enhancements**: Ruder, S., et al. (2019). Transfer Learning in Natural Language Processing. In Proceedings of the 2019 Annual Conference of the Association for Computational Linguistics (ACL).\n",
    "\n",
    "**Error Handling**: Géron, A. (2019). Hands-On Machine Learning with Scikit-Learn, Keras, and TensorFlow. O'Reilly Media, Inc.\n",
    "\n",
    "**Performance Evaluation**: Papineni, K., et al. (2002). BLEU: a method for automatic evaluation of machine translation. In Proceedings of the 40th Annual Meeting of the Association for Computational Linguistics.\n",
    "Lin, C.-Y. (2004). ROUGE: A Package for Automatic Evaluation of Summaries. In Proceedings of the ACL Workshop on Text Summarization.\n",
    "\n",
    "**Documentation and Code Clarity**: VanderPlas, J. (2016). Python Data Science Handbook. O'Reilly Media, Inc."
   ]
  }
 ],
 "metadata": {
  "kaggle": {
   "accelerator": "gpu",
   "dataSources": [
    {
     "databundleVersionId": 9690815,
     "sourceId": 85416,
     "sourceType": "competition"
    },
    {
     "datasetId": 5971599,
     "sourceId": 9753228,
     "sourceType": "datasetVersion"
    },
    {
     "datasetId": 6034122,
     "sourceId": 9836932,
     "sourceType": "datasetVersion"
    },
    {
     "datasetId": 6034224,
     "sourceId": 9837055,
     "sourceType": "datasetVersion"
    },
    {
     "modelId": 78150,
     "modelInstanceId": 72246,
     "sourceId": 85986,
     "sourceType": "modelInstanceVersion"
    }
   ],
   "dockerImageVersionId": 30776,
   "isGpuEnabled": true,
   "isInternetEnabled": true,
   "language": "python",
   "sourceType": "notebook"
  },
  "kernelspec": {
   "display_name": "Python 3",
   "language": "python",
   "name": "python3"
  },
  "language_info": {
   "codemirror_mode": {
    "name": "ipython",
    "version": 3
   },
   "file_extension": ".py",
   "mimetype": "text/x-python",
   "name": "python",
   "nbconvert_exporter": "python",
   "pygments_lexer": "ipython3",
   "version": "3.10.14"
  },
  "papermill": {
   "default_parameters": {},
   "duration": 1095.176043,
   "end_time": "2024-11-07T19:21:29.476093",
   "environment_variables": {},
   "exception": null,
   "input_path": "__notebook__.ipynb",
   "output_path": "__notebook__.ipynb",
   "parameters": {},
   "start_time": "2024-11-07T19:03:14.300050",
   "version": "2.6.0"
  }
 },
 "nbformat": 4,
 "nbformat_minor": 5
}
