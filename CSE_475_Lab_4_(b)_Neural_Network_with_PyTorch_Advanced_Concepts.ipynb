{
  "nbformat": 4,
  "nbformat_minor": 0,
  "metadata": {
    "colab": {
      "provenance": [],
      "gpuType": "T4"
    },
    "kernelspec": {
      "name": "python3",
      "display_name": "Python 3"
    },
    "language_info": {
      "name": "python"
    },
    "accelerator": "GPU"
  },
  "cells": [
    {
      "cell_type": "markdown",
      "source": [
        "# Neural Network with PyTorch: Advanced Concepts"
      ],
      "metadata": {
        "id": "OxJ2UV5nS2m5"
      }
    },
    {
      "cell_type": "markdown",
      "source": [
        "## Import Required Libraries"
      ],
      "metadata": {
        "id": "sAbsOpwoS6KO"
      }
    },
    {
      "cell_type": "code",
      "execution_count": 1,
      "metadata": {
        "id": "ZXJH1xPkSA3i"
      },
      "outputs": [],
      "source": [
        "import torch\n",
        "import torch.nn as nn\n",
        "import torch.optim as optim\n",
        "from torch.utils.data import DataLoader, random_split\n",
        "from torchvision import datasets, transforms\n",
        "import numpy as np\n",
        "import matplotlib.pyplot as plt"
      ]
    },
    {
      "cell_type": "markdown",
      "source": [
        "## Load and Split the Dataset"
      ],
      "metadata": {
        "id": "Gs4ITL1TS813"
      }
    },
    {
      "cell_type": "markdown",
      "source": [
        "We’ll use the MNIST dataset, splitting it into training and validation sets."
      ],
      "metadata": {
        "id": "I4cXuHvBTBUO"
      }
    },
    {
      "cell_type": "code",
      "source": [
        "# Define transformations\n",
        "transform = transforms.Compose([\n",
        "    transforms.ToTensor(),\n",
        "    transforms.Normalize((0.5,), (0.5,))\n",
        "])\n",
        "\n",
        "# Download and load the dataset\n",
        "dataset = datasets.MNIST(root='data', train=True, transform=transform, download=True)\n",
        "train_size = int(0.8 * len(dataset))\n",
        "val_size = len(dataset) - train_size\n",
        "\n",
        "train_dataset, val_dataset = random_split(dataset, [train_size, val_size])\n",
        "\n",
        "train_loader = DataLoader(dataset=train_dataset, batch_size=64, shuffle=True)\n",
        "val_loader = DataLoader(dataset=val_dataset, batch_size=64, shuffle=False)\n"
      ],
      "metadata": {
        "colab": {
          "base_uri": "https://localhost:8080/"
        },
        "id": "LyYwF3giS_ae",
        "outputId": "f0ece8ec-f2da-4aa5-a120-e563f53f797c"
      },
      "execution_count": 2,
      "outputs": [
        {
          "output_type": "stream",
          "name": "stdout",
          "text": [
            "Downloading http://yann.lecun.com/exdb/mnist/train-images-idx3-ubyte.gz\n",
            "Failed to download (trying next):\n",
            "<urlopen error [SSL: CERTIFICATE_VERIFY_FAILED] certificate verify failed: certificate has expired (_ssl.c:1007)>\n",
            "\n",
            "Downloading https://ossci-datasets.s3.amazonaws.com/mnist/train-images-idx3-ubyte.gz\n",
            "Downloading https://ossci-datasets.s3.amazonaws.com/mnist/train-images-idx3-ubyte.gz to data/MNIST/raw/train-images-idx3-ubyte.gz\n"
          ]
        },
        {
          "output_type": "stream",
          "name": "stderr",
          "text": [
            "100%|██████████| 9.91M/9.91M [00:02<00:00, 4.58MB/s]\n"
          ]
        },
        {
          "output_type": "stream",
          "name": "stdout",
          "text": [
            "Extracting data/MNIST/raw/train-images-idx3-ubyte.gz to data/MNIST/raw\n",
            "\n",
            "Downloading http://yann.lecun.com/exdb/mnist/train-labels-idx1-ubyte.gz\n",
            "Failed to download (trying next):\n",
            "<urlopen error [SSL: CERTIFICATE_VERIFY_FAILED] certificate verify failed: certificate has expired (_ssl.c:1007)>\n",
            "\n",
            "Downloading https://ossci-datasets.s3.amazonaws.com/mnist/train-labels-idx1-ubyte.gz\n",
            "Downloading https://ossci-datasets.s3.amazonaws.com/mnist/train-labels-idx1-ubyte.gz to data/MNIST/raw/train-labels-idx1-ubyte.gz\n"
          ]
        },
        {
          "output_type": "stream",
          "name": "stderr",
          "text": [
            "100%|██████████| 28.9k/28.9k [00:00<00:00, 66.0kB/s]\n"
          ]
        },
        {
          "output_type": "stream",
          "name": "stdout",
          "text": [
            "Extracting data/MNIST/raw/train-labels-idx1-ubyte.gz to data/MNIST/raw\n",
            "\n",
            "Downloading http://yann.lecun.com/exdb/mnist/t10k-images-idx3-ubyte.gz\n",
            "Failed to download (trying next):\n",
            "<urlopen error [SSL: CERTIFICATE_VERIFY_FAILED] certificate verify failed: certificate has expired (_ssl.c:1007)>\n",
            "\n",
            "Downloading https://ossci-datasets.s3.amazonaws.com/mnist/t10k-images-idx3-ubyte.gz\n",
            "Downloading https://ossci-datasets.s3.amazonaws.com/mnist/t10k-images-idx3-ubyte.gz to data/MNIST/raw/t10k-images-idx3-ubyte.gz\n"
          ]
        },
        {
          "output_type": "stream",
          "name": "stderr",
          "text": [
            "100%|██████████| 1.65M/1.65M [00:06<00:00, 244kB/s]\n"
          ]
        },
        {
          "output_type": "stream",
          "name": "stdout",
          "text": [
            "Extracting data/MNIST/raw/t10k-images-idx3-ubyte.gz to data/MNIST/raw\n",
            "\n",
            "Downloading http://yann.lecun.com/exdb/mnist/t10k-labels-idx1-ubyte.gz\n",
            "Failed to download (trying next):\n",
            "<urlopen error [SSL: CERTIFICATE_VERIFY_FAILED] certificate verify failed: certificate has expired (_ssl.c:1007)>\n",
            "\n",
            "Downloading https://ossci-datasets.s3.amazonaws.com/mnist/t10k-labels-idx1-ubyte.gz\n",
            "Downloading https://ossci-datasets.s3.amazonaws.com/mnist/t10k-labels-idx1-ubyte.gz to data/MNIST/raw/t10k-labels-idx1-ubyte.gz\n"
          ]
        },
        {
          "output_type": "stream",
          "name": "stderr",
          "text": [
            "100%|██████████| 4.54k/4.54k [00:00<00:00, 2.60MB/s]"
          ]
        },
        {
          "output_type": "stream",
          "name": "stdout",
          "text": [
            "Extracting data/MNIST/raw/t10k-labels-idx1-ubyte.gz to data/MNIST/raw\n",
            "\n"
          ]
        },
        {
          "output_type": "stream",
          "name": "stderr",
          "text": [
            "\n"
          ]
        }
      ]
    },
    {
      "cell_type": "markdown",
      "source": [
        "## Define the Neural Network with Dropout\n",
        "We include a dropout layer to reduce overfitting."
      ],
      "metadata": {
        "id": "ORGhXveQTIsu"
      }
    },
    {
      "cell_type": "code",
      "source": [
        "class NeuralNet(nn.Module):\n",
        "    def __init__(self):\n",
        "        super(NeuralNet, self).__init__()\n",
        "        self.fc1 = nn.Linear(28*28, 256)\n",
        "        self.fc2 = nn.Linear(256, 128)\n",
        "        self.fc3 = nn.Linear(128, 10)\n",
        "        self.dropout = nn.Dropout(0.5)  # Dropout layer with a 50% dropout rate\n",
        "\n",
        "    def forward(self, x):\n",
        "        x = x.view(-1, 28*28)  # Flatten the input\n",
        "        x = torch.relu(self.fc1(x))\n",
        "        x = self.dropout(x)     # Apply dropout\n",
        "        x = torch.relu(self.fc2(x))\n",
        "        x = self.fc3(x)         # Output logits\n",
        "        return x\n"
      ],
      "metadata": {
        "id": "H0j-1P0ITK72"
      },
      "execution_count": 3,
      "outputs": []
    },
    {
      "cell_type": "markdown",
      "source": [
        "## Set Hyperparameters and Initialize Model\n",
        "Here, we initialize the model, loss function, optimizer, and define some hyperparameters."
      ],
      "metadata": {
        "id": "fz6w0JK3TO13"
      }
    },
    {
      "cell_type": "code",
      "source": [
        "# Initialize model, loss function, and optimizer\n",
        "model = NeuralNet()\n",
        "criterion = nn.CrossEntropyLoss()\n",
        "optimizer = optim.Adam(model.parameters(), lr=0.001)\n",
        "\n",
        "# Hyperparameters\n",
        "num_epochs = 50\n",
        "early_stopping_patience = 5  # For early stopping\n"
      ],
      "metadata": {
        "id": "WUWYSCpLTQFu"
      },
      "execution_count": 4,
      "outputs": []
    },
    {
      "cell_type": "markdown",
      "source": [
        "## Implement Early Stopping\n",
        "Define a helper function to monitor validation loss and stop training when performance ceases to improve."
      ],
      "metadata": {
        "id": "T77PlKI1TTVW"
      }
    },
    {
      "cell_type": "code",
      "source": [
        "class EarlyStopping:\n",
        "    def __init__(self, patience=5, min_delta=0):\n",
        "        self.patience = patience\n",
        "        self.min_delta = min_delta\n",
        "        self.counter = 0\n",
        "        self.best_loss = np.inf\n",
        "\n",
        "    def should_stop(self, val_loss):\n",
        "        if val_loss < self.best_loss - self.min_delta:\n",
        "            self.best_loss = val_loss\n",
        "            self.counter = 0\n",
        "        else:\n",
        "            self.counter += 1\n",
        "            if self.counter >= self.patience:\n",
        "                return True\n",
        "        return False\n",
        "\n",
        "early_stopping = EarlyStopping(patience=early_stopping_patience)\n"
      ],
      "metadata": {
        "id": "vierZg1sTUcG"
      },
      "execution_count": 5,
      "outputs": []
    },
    {
      "cell_type": "markdown",
      "source": [
        "## Train the Model with Validation and Early Stopping\n",
        "Track training and validation loss for visualization and apply early stopping."
      ],
      "metadata": {
        "id": "mWS_TNC5TX7W"
      }
    },
    {
      "cell_type": "code",
      "source": [
        "train_losses = []\n",
        "val_losses = []\n",
        "\n",
        "for epoch in range(num_epochs):\n",
        "    model.train()\n",
        "    train_loss = 0.0\n",
        "    for images, labels in train_loader:\n",
        "        optimizer.zero_grad()\n",
        "        outputs = model(images)\n",
        "        loss = criterion(outputs, labels)\n",
        "        loss.backward()\n",
        "        optimizer.step()\n",
        "        train_loss += loss.item() * images.size(0)\n",
        "\n",
        "    train_loss /= len(train_loader.dataset)\n",
        "    train_losses.append(train_loss)\n",
        "\n",
        "    # Validation phase\n",
        "    model.eval()\n",
        "    val_loss = 0.0\n",
        "    with torch.no_grad():\n",
        "        for images, labels in val_loader:\n",
        "            outputs = model(images)\n",
        "            loss = criterion(outputs, labels)\n",
        "            val_loss += loss.item() * images.size(0)\n",
        "\n",
        "    val_loss /= len(val_loader.dataset)\n",
        "    val_losses.append(val_loss)\n",
        "\n",
        "    print(f\"Epoch {epoch+1}/{num_epochs}, Training Loss: {train_loss:.4f}, Validation Loss: {val_loss:.4f}\")\n",
        "\n",
        "    # Early stopping check\n",
        "    if early_stopping.should_stop(val_loss):\n",
        "        print(\"Early stopping triggered\")\n",
        "        break\n"
      ],
      "metadata": {
        "colab": {
          "base_uri": "https://localhost:8080/"
        },
        "id": "pIv0yEHMTVvO",
        "outputId": "7bd782bd-4385-414e-a24c-5ce3281546ee"
      },
      "execution_count": 6,
      "outputs": [
        {
          "output_type": "stream",
          "name": "stdout",
          "text": [
            "Epoch 1/50, Training Loss: 0.5168, Validation Loss: 0.2452\n",
            "Epoch 2/50, Training Loss: 0.3053, Validation Loss: 0.1931\n",
            "Epoch 3/50, Training Loss: 0.2670, Validation Loss: 0.1895\n",
            "Epoch 4/50, Training Loss: 0.2335, Validation Loss: 0.1601\n",
            "Epoch 5/50, Training Loss: 0.2179, Validation Loss: 0.1365\n",
            "Epoch 6/50, Training Loss: 0.2060, Validation Loss: 0.1320\n",
            "Epoch 7/50, Training Loss: 0.1918, Validation Loss: 0.1328\n",
            "Epoch 8/50, Training Loss: 0.1846, Validation Loss: 0.1224\n",
            "Epoch 9/50, Training Loss: 0.1786, Validation Loss: 0.1260\n",
            "Epoch 10/50, Training Loss: 0.1721, Validation Loss: 0.1224\n",
            "Epoch 11/50, Training Loss: 0.1662, Validation Loss: 0.1157\n",
            "Epoch 12/50, Training Loss: 0.1595, Validation Loss: 0.1140\n",
            "Epoch 13/50, Training Loss: 0.1566, Validation Loss: 0.1121\n",
            "Epoch 14/50, Training Loss: 0.1557, Validation Loss: 0.1028\n",
            "Epoch 15/50, Training Loss: 0.1512, Validation Loss: 0.1148\n",
            "Epoch 16/50, Training Loss: 0.1471, Validation Loss: 0.1022\n",
            "Epoch 17/50, Training Loss: 0.1440, Validation Loss: 0.1021\n",
            "Epoch 18/50, Training Loss: 0.1449, Validation Loss: 0.1040\n",
            "Epoch 19/50, Training Loss: 0.1398, Validation Loss: 0.0987\n",
            "Epoch 20/50, Training Loss: 0.1370, Validation Loss: 0.1036\n",
            "Epoch 21/50, Training Loss: 0.1334, Validation Loss: 0.1057\n",
            "Epoch 22/50, Training Loss: 0.1320, Validation Loss: 0.0960\n",
            "Epoch 23/50, Training Loss: 0.1322, Validation Loss: 0.0988\n",
            "Epoch 24/50, Training Loss: 0.1268, Validation Loss: 0.0965\n",
            "Epoch 25/50, Training Loss: 0.1234, Validation Loss: 0.1031\n",
            "Epoch 26/50, Training Loss: 0.1262, Validation Loss: 0.0946\n",
            "Epoch 27/50, Training Loss: 0.1220, Validation Loss: 0.1044\n",
            "Epoch 28/50, Training Loss: 0.1232, Validation Loss: 0.1002\n",
            "Epoch 29/50, Training Loss: 0.1212, Validation Loss: 0.1004\n",
            "Epoch 30/50, Training Loss: 0.1174, Validation Loss: 0.0912\n",
            "Epoch 31/50, Training Loss: 0.1188, Validation Loss: 0.0934\n",
            "Epoch 32/50, Training Loss: 0.1190, Validation Loss: 0.0936\n",
            "Epoch 33/50, Training Loss: 0.1136, Validation Loss: 0.0910\n",
            "Epoch 34/50, Training Loss: 0.1184, Validation Loss: 0.0912\n",
            "Epoch 35/50, Training Loss: 0.1140, Validation Loss: 0.0976\n",
            "Epoch 36/50, Training Loss: 0.1119, Validation Loss: 0.0988\n",
            "Epoch 37/50, Training Loss: 0.1132, Validation Loss: 0.0967\n",
            "Epoch 38/50, Training Loss: 0.1106, Validation Loss: 0.0878\n",
            "Epoch 39/50, Training Loss: 0.1075, Validation Loss: 0.0843\n",
            "Epoch 40/50, Training Loss: 0.1127, Validation Loss: 0.0840\n",
            "Epoch 41/50, Training Loss: 0.1041, Validation Loss: 0.0893\n",
            "Epoch 42/50, Training Loss: 0.1095, Validation Loss: 0.0914\n",
            "Epoch 43/50, Training Loss: 0.1045, Validation Loss: 0.0888\n",
            "Epoch 44/50, Training Loss: 0.1089, Validation Loss: 0.0909\n",
            "Epoch 45/50, Training Loss: 0.1031, Validation Loss: 0.0860\n",
            "Early stopping triggered\n"
          ]
        }
      ]
    },
    {
      "cell_type": "markdown",
      "source": [
        "## Plot Training and Validation Loss Curve\n",
        "Visualize loss curves to assess the model’s training behavior and check for overfitting or underfitting."
      ],
      "metadata": {
        "id": "YwOZHkCUTmQG"
      }
    },
    {
      "cell_type": "code",
      "source": [
        "plt.figure(figsize=(10, 5))\n",
        "plt.plot(train_losses, label='Training Loss')\n",
        "plt.plot(val_losses, label='Validation Loss')\n",
        "plt.xlabel('Epoch')\n",
        "plt.ylabel('Loss')\n",
        "plt.legend()\n",
        "plt.title('Training and Validation Loss Curve')\n",
        "plt.show()\n"
      ],
      "metadata": {
        "colab": {
          "base_uri": "https://localhost:8080/",
          "height": 487
        },
        "id": "DeArvD2iTnwR",
        "outputId": "590f9d71-3502-4235-ab92-74796bdfb860"
      },
      "execution_count": 7,
      "outputs": [
        {
          "output_type": "display_data",
          "data": {
            "text/plain": [
              "<Figure size 1000x500 with 1 Axes>"
            ],
            "image/png": "[encoded data removed]"
          },
          "metadata": {}
        }
      ]
    },
    {
      "cell_type": "markdown",
      "source": [
        "**Discussion on Overfitting and Underfitting**\n",
        "* **Overfitting:** If training loss keeps decreasing while validation loss starts increasing, the model is overfitting.\n",
        "* **Underfitting:** If both training and validation loss are high and do not decrease, the model is underfitting."
      ],
      "metadata": {
        "id": "5vogo_UfTpXW"
      }
    },
    {
      "cell_type": "markdown",
      "source": [
        "## Evaluate the Model and Make Predictions\n",
        "Evaluate accuracy on test data and make predictions."
      ],
      "metadata": {
        "id": "MC8Gm5FATzG2"
      }
    },
    {
      "cell_type": "code",
      "source": [
        "# Load test dataset\n",
        "test_dataset = datasets.MNIST(root='data', train=False, transform=transform)\n",
        "test_loader = DataLoader(dataset=test_dataset, batch_size=64, shuffle=False)\n",
        "\n",
        "# Test the model\n",
        "model.eval()\n",
        "correct = 0\n",
        "total = 0\n",
        "\n",
        "with torch.no_grad():\n",
        "    for images, labels in test_loader:\n",
        "        outputs = model(images)\n",
        "        _, predicted = torch.max(outputs, 1)\n",
        "        total += labels.size(0)\n",
        "        correct += (predicted == labels).sum().item()\n",
        "\n",
        "print(f'Accuracy on test set: {100 * correct / total:.2f}%')\n",
        "\n",
        "# Show a few prediction results\n",
        "import matplotlib.pyplot as plt\n",
        "\n",
        "images, labels = next(iter(test_loader))\n",
        "outputs = model(images)\n",
        "_, preds = torch.max(outputs, 1)\n",
        "\n",
        "# Plot the results\n",
        "fig, axes = plt.subplots(1, 5, figsize=(15, 3))\n",
        "for i, ax in enumerate(axes):\n",
        "    ax.imshow(images[i].view(28, 28).numpy(), cmap='gray')\n",
        "    ax.set_title(f'Pred: {preds[i].item()}, Label: {labels[i].item()}')\n",
        "    ax.axis('off')\n",
        "plt.show()\n"
      ],
      "metadata": {
        "colab": {
          "base_uri": "https://localhost:8080/",
          "height": 276
        },
        "id": "x9k9BcOwT0WX",
        "outputId": "b449e63c-9170-484d-cf5b-b14339ac0602"
      },
      "execution_count": 8,
      "outputs": [
        {
          "output_type": "stream",
          "name": "stdout",
          "text": [
            "Accuracy on test set: 97.99%\n"
          ]
        },
        {
          "output_type": "display_data",
          "data": {
            "text/plain": [
              "<Figure size 1500x300 with 5 Axes>"
            ],
            "image/png": "[encoded data removed]"
          },
          "metadata": {}
        }
      ]
    },
    {
      "cell_type": "markdown",
      "source": [
        "## Summary\n",
        "In this notebook, we covered:\n",
        "\n",
        "* **Model Definition with Dropout:** Building a neural network with dropout to prevent overfitting.\n",
        "* **Early Stopping:** Implementing early stopping to halt training when validation loss stops improving.\n",
        "* **Loss Curve Visualization:** Plotting training and validation loss curves to analyze model performance.\n",
        "* **Overfitting vs Underfitting:** Discussing signs of overfitting and underfitting based on loss curves.\n",
        "* **Evaluation and Prediction:** Testing the model's accuracy and showing predictions with a few examples."
      ],
      "metadata": {
        "id": "6E6oTi9ST2HO"
      }
    }
  ]
}